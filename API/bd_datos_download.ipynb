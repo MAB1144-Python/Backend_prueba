{
 "cells": [
  {
   "attachments": {},
   "cell_type": "markdown",
   "metadata": {},
   "source": [
    "Revision de las tablas existentes"
   ]
  },
  {
   "cell_type": "code",
   "execution_count": 1,
   "metadata": {},
   "outputs": [
    {
     "name": "stdout",
     "output_type": "stream",
     "text": [
      "('Tabla_Conteo_Vehiculos',)\n",
      "('Tabla_Recaudo_Vehiculos',)\n"
     ]
    }
   ],
   "source": [
    "import pyodbc\n",
    "Server = '23.102.103.53'\n",
    "Colección = 'BrayanMontenegro'\n",
    "Usuario = 'bmontenegroprueba'\n",
    "Contraseña = 'bmontenegroprueba'\n",
    "conexion = pyodbc.connect('DRIVER={SQL Server};SERVER='+Server+';DATABASE='+Colección+';UID='+Usuario+';PWD='+Contraseña)\n",
    "cursor = conexion.cursor()\n",
    "cursor.execute(\"\"\"SELECT TABLE_NAME\n",
    "                    FROM INFORMATION_SCHEMA.TABLES\n",
    "                    WHERE TABLE_TYPE = 'BASE TABLE' AND TABLE_CATALOG = 'BrayanMontenegro';\n",
    "                    \"\"\")\n",
    "data = cursor.fetchall()\n",
    "\n",
    "# Recorrer los resultados e imprimirlos\n",
    "for row in data:\n",
    "    print(row)\n",
    "conexion.close()"
   ]
  },
  {
   "attachments": {},
   "cell_type": "markdown",
   "metadata": {},
   "source": [
    "download y revision de datos desde la base de datos"
   ]
  },
  {
   "cell_type": "code",
   "execution_count": 17,
   "metadata": {},
   "outputs": [
    {
     "name": "stderr",
     "output_type": "stream",
     "text": [
      "C:\\Users\\Inspiron G15\\AppData\\Local\\Temp\\ipykernel_3516\\2365599472.py:19: UserWarning: pandas only supports SQLAlchemy connectable (engine/connection) or database string URI or sqlite3 DBAPI2 connection. Other DBAPI2 objects are not tested. Please consider using SQLAlchemy.\n",
      "  df = pd.read_sql_query(select_query, conn)\n"
     ]
    },
    {
     "data": {
      "text/html": [
       "<div>\n",
       "<style scoped>\n",
       "    .dataframe tbody tr th:only-of-type {\n",
       "        vertical-align: middle;\n",
       "    }\n",
       "\n",
       "    .dataframe tbody tr th {\n",
       "        vertical-align: top;\n",
       "    }\n",
       "\n",
       "    .dataframe thead th {\n",
       "        text-align: right;\n",
       "    }\n",
       "</style>\n",
       "<table border=\"1\" class=\"dataframe\">\n",
       "  <thead>\n",
       "    <tr style=\"text-align: right;\">\n",
       "      <th></th>\n",
       "      <th>estacion</th>\n",
       "      <th>sentido</th>\n",
       "      <th>fecha_hora</th>\n",
       "      <th>categoria</th>\n",
       "      <th>cantidad</th>\n",
       "    </tr>\n",
       "  </thead>\n",
       "  <tbody>\n",
       "    <tr>\n",
       "      <th>0</th>\n",
       "      <td>UNISABANA</td>\n",
       "      <td>BOG-CHI</td>\n",
       "      <td>2021-10-02 03:00:00</td>\n",
       "      <td>V</td>\n",
       "      <td>1</td>\n",
       "    </tr>\n",
       "    <tr>\n",
       "      <th>1</th>\n",
       "      <td>ANDES</td>\n",
       "      <td>BOG-CHI</td>\n",
       "      <td>2021-10-03 03:00:00</td>\n",
       "      <td>VI</td>\n",
       "      <td>6</td>\n",
       "    </tr>\n",
       "    <tr>\n",
       "      <th>2</th>\n",
       "      <td>ANDES</td>\n",
       "      <td>BOG-CHI</td>\n",
       "      <td>2021-10-04 21:00:00</td>\n",
       "      <td>III</td>\n",
       "      <td>44</td>\n",
       "    </tr>\n",
       "    <tr>\n",
       "      <th>3</th>\n",
       "      <td>UNISABANA</td>\n",
       "      <td>BOG-CHI</td>\n",
       "      <td>2021-10-04 03:00:00</td>\n",
       "      <td>VI</td>\n",
       "      <td>1</td>\n",
       "    </tr>\n",
       "    <tr>\n",
       "      <th>4</th>\n",
       "      <td>ANDES</td>\n",
       "      <td>BOG-CHI</td>\n",
       "      <td>2021-10-05 07:00:00</td>\n",
       "      <td>VII</td>\n",
       "      <td>7</td>\n",
       "    </tr>\n",
       "    <tr>\n",
       "      <th>...</th>\n",
       "      <td>...</td>\n",
       "      <td>...</td>\n",
       "      <td>...</td>\n",
       "      <td>...</td>\n",
       "      <td>...</td>\n",
       "    </tr>\n",
       "    <tr>\n",
       "      <th>1455</th>\n",
       "      <td>FUSCA</td>\n",
       "      <td>BOG-CHI</td>\n",
       "      <td>2021-10-06 13:00:00</td>\n",
       "      <td>III</td>\n",
       "      <td>9</td>\n",
       "    </tr>\n",
       "    <tr>\n",
       "      <th>1456</th>\n",
       "      <td>FUSCA</td>\n",
       "      <td>BOG-CHI</td>\n",
       "      <td>2021-10-06 14:00:00</td>\n",
       "      <td>III</td>\n",
       "      <td>6</td>\n",
       "    </tr>\n",
       "    <tr>\n",
       "      <th>1457</th>\n",
       "      <td>FUSCA</td>\n",
       "      <td>BOG-CHI</td>\n",
       "      <td>2021-10-06 15:00:00</td>\n",
       "      <td>III</td>\n",
       "      <td>5</td>\n",
       "    </tr>\n",
       "    <tr>\n",
       "      <th>1458</th>\n",
       "      <td>FUSCA</td>\n",
       "      <td>BOG-CHI</td>\n",
       "      <td>2021-10-06 16:00:00</td>\n",
       "      <td>III</td>\n",
       "      <td>10</td>\n",
       "    </tr>\n",
       "    <tr>\n",
       "      <th>1459</th>\n",
       "      <td>FUSCA</td>\n",
       "      <td>BOG-CHI</td>\n",
       "      <td>2021-10-06 17:00:00</td>\n",
       "      <td>III</td>\n",
       "      <td>1</td>\n",
       "    </tr>\n",
       "  </tbody>\n",
       "</table>\n",
       "<p>1460 rows × 5 columns</p>\n",
       "</div>"
      ],
      "text/plain": [
       "       estacion  sentido          fecha_hora categoria  cantidad\n",
       "0     UNISABANA  BOG-CHI 2021-10-02 03:00:00         V         1\n",
       "1         ANDES  BOG-CHI 2021-10-03 03:00:00        VI         6\n",
       "2         ANDES  BOG-CHI 2021-10-04 21:00:00       III        44\n",
       "3     UNISABANA  BOG-CHI 2021-10-04 03:00:00        VI         1\n",
       "4         ANDES  BOG-CHI 2021-10-05 07:00:00       VII         7\n",
       "...         ...      ...                 ...       ...       ...\n",
       "1455      FUSCA  BOG-CHI 2021-10-06 13:00:00       III         9\n",
       "1456      FUSCA  BOG-CHI 2021-10-06 14:00:00       III         6\n",
       "1457      FUSCA  BOG-CHI 2021-10-06 15:00:00       III         5\n",
       "1458      FUSCA  BOG-CHI 2021-10-06 16:00:00       III        10\n",
       "1459      FUSCA  BOG-CHI 2021-10-06 17:00:00       III         1\n",
       "\n",
       "[1460 rows x 5 columns]"
      ]
     },
     "execution_count": 17,
     "metadata": {},
     "output_type": "execute_result"
    }
   ],
   "source": [
    "# se creo la tabla \n",
    "import pyodbc\n",
    "\n",
    "# Conexión a la base de datos\n",
    "conn = pyodbc.connect('Driver={SQL Server};'+\n",
    "                      'Server=23.102.103.53;'+\n",
    "                      'Database=BrayanMontenegro;'+\n",
    "                      'UID=bmontenegroprueba;'+\n",
    "                      'PWD=bmontenegroprueba;'\n",
    "                      )\n",
    "\n",
    "# Creación de la tabla\n",
    "#estacion VARCHAR(50),sentido VARCHAR(50),fecha_hora TIME,cantegoria VARCHAR(50),cantidad INT\n",
    "cursor = conn.cursor()\n",
    "# Consulta para obtener todos los datos de la tabla\n",
    "select_query = \"SELECT * FROM Tabla_Conteo_Vehiculos\"\n",
    "\n",
    "# Ejecutar la consulta y obtener los resultados\n",
    "df = pd.read_sql_query(select_query, conn)\n",
    "\n",
    "# Cerrar la conexión\n",
    "conn.close()\n",
    "df\n"
   ]
  },
  {
   "cell_type": "code",
   "execution_count": 16,
   "metadata": {},
   "outputs": [
    {
     "name": "stdout",
     "output_type": "stream",
     "text": [
      "[('UNISABANA', 'BOG-CHI', datetime.datetime(2021, 10, 2, 3, 0), 'V', 1), ('ANDES', 'BOG-CHI', datetime.datetime(2021, 10, 3, 3, 0), 'VI', 6), ('ANDES', 'BOG-CHI', datetime.datetime(2021, 10, 4, 21, 0), 'III', 44), ('UNISABANA', 'BOG-CHI', datetime.datetime(2021, 10, 4, 3, 0), 'VI', 1), ('ANDES', 'BOG-CHI', datetime.datetime(2021, 10, 5, 7, 0), 'VII', 7), ('ANDES', 'BOG-CHI', datetime.datetime(2021, 10, 6, 0, 0), 'II', 6), ('FUSCA', 'BOG-CHI', datetime.datetime(2021, 10, 6, 18, 0), 'III', 1), ('ANDES', 'BOG-CHI', datetime.datetime(2021, 10, 2, 2, 0), 'III', 26), ('ANDES', 'BOG-CHI', datetime.datetime(2021, 10, 2, 3, 0), 'III', 35), ('ANDES', 'BOG-CHI', datetime.datetime(2021, 10, 2, 4, 0), 'III', 63)]\n",
      "                                              datos\n",
      "0   [UNISABANA, BOG-CHI, 2021-10-02 03:00:00, V, 1]\n",
      "1      [ANDES, BOG-CHI, 2021-10-03 03:00:00, VI, 6]\n",
      "2    [ANDES, BOG-CHI, 2021-10-04 21:00:00, III, 44]\n",
      "3  [UNISABANA, BOG-CHI, 2021-10-04 03:00:00, VI, 1]\n",
      "4     [ANDES, BOG-CHI, 2021-10-05 07:00:00, VII, 7]\n"
     ]
    },
    {
     "data": {
      "text/plain": [
       "0       UNISABANA\n",
       "1           ANDES\n",
       "2           ANDES\n",
       "3       UNISABANA\n",
       "4           ANDES\n",
       "          ...    \n",
       "1455        FUSCA\n",
       "1456        FUSCA\n",
       "1457        FUSCA\n",
       "1458        FUSCA\n",
       "1459        FUSCA\n",
       "Name: datos, Length: 1460, dtype: object"
      ]
     },
     "execution_count": 16,
     "metadata": {},
     "output_type": "execute_result"
    }
   ],
   "source": [
    "import pandas as pd\n",
    "print(data[:10])\n",
    "df_cv = pd.DataFrame(data, columns=[\"datos\"])\n",
    "print(df_cv.head())\n",
    "def spl (a):\n",
    "    return a[0]\n",
    "df_cv = df_cv[\"datos\"].apply(spl)\n",
    "df_cv\n"
   ]
  },
  {
   "cell_type": "code",
   "execution_count": 20,
   "metadata": {},
   "outputs": [
    {
     "name": "stdout",
     "output_type": "stream",
     "text": [
      "None\n"
     ]
    }
   ],
   "source": [
    "import pyodbc\n",
    "\n",
    "# Conexión a la base de datos\n",
    "conn = pyodbc.connect('Driver={SQL Server};'+\n",
    "                      'Server=23.102.103.53;'+\n",
    "                      'Database=BrayanMontenegro;'+\n",
    "                      'UID=bmontenegroprueba;'+\n",
    "                      'PWD=bmontenegroprueba;'\n",
    "                      )\n",
    "\n",
    "# Creación de un cursor\n",
    "cursor = conn.cursor()\n",
    "\n",
    "# Eliminación de la tabla\n",
    "drop_table_query = \"DROP TABLE Tabla_Conteo_Vehiculos\"\n",
    "cursor.execute(drop_table_query)\n",
    "\n",
    "# Confirmar los cambios\n",
    "print(conn.commit())\n",
    "\n",
    "# Cerrar la conexión\n",
    "conn.close()\n"
   ]
  },
  {
   "attachments": {},
   "cell_type": "markdown",
   "metadata": {},
   "source": [
    "Se preparan los datos para subirlos a la base de datos"
   ]
  },
  {
   "cell_type": "code",
   "execution_count": 29,
   "metadata": {},
   "outputs": [
    {
     "name": "stdout",
     "output_type": "stream",
     "text": [
      "16664 ['ANDES', 'BOG-CHI', datetime.datetime(2021, 9, 25, 3, 0), 'I', 248]\n"
     ]
    }
   ],
   "source": [
    "import pyodbc\n",
    "\n",
    "# Conexión a la base de datos\n",
    "conn = pyodbc.connect('Driver={SQL Server};'+\n",
    "                      'Server=23.102.103.53;'+\n",
    "                      'Database=BrayanMontenegro;'+\n",
    "                      'UID=bmontenegroprueba;'+\n",
    "                      'PWD=bmontenegroprueba;'\n",
    "                      )\n",
    "\n",
    "# Creación de un cursor\n",
    "cursor = conn.cursor()\n",
    "\n",
    "# Inserción de datos\n",
    "insert_query = '''\n",
    "    INSERT INTO Tabla_Conteo_Vehiculos (estacion, sentido, fecha_hora, categoria, cantidad)\n",
    "    VALUES (?, ?, ?, ?, ?)\n",
    "'''\n",
    "\n",
    "#estacion VARCHAR(50),sentido VARCHAR(50),fecha_hora TIME,cantegoria VARCHAR(50),cantidad INT\n",
    "cont = 6531\n",
    "for row in data[cont:]:\n",
    "    print(cont, row)\n",
    "    try:\n",
    "        cursor.execute(insert_query, row)\n",
    "        clear_output(wait=True)\n",
    "    except:\n",
    "        break\n",
    "    cont = cont + 1\n",
    "\n",
    "# Confirmar los cambios\n",
    "conn.commit()\n",
    "\n",
    "# Cerrar la conexión\n",
    "#6531 ['ANDES', 'BOG-CHI', datetime.datetime(2021, 8, 23, 16, 0), 'II', 164]\n",
    "conn.close()"
   ]
  }
 ],
 "metadata": {
  "kernelspec": {
   "display_name": "Python 3",
   "language": "python",
   "name": "python3"
  },
  "language_info": {
   "codemirror_mode": {
    "name": "ipython",
    "version": 3
   },
   "file_extension": ".py",
   "mimetype": "text/x-python",
   "name": "python",
   "nbconvert_exporter": "python",
   "pygments_lexer": "ipython3",
   "version": "3.10.10"
  },
  "orig_nbformat": 4
 },
 "nbformat": 4,
 "nbformat_minor": 2
}
