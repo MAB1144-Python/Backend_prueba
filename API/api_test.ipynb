{
 "cells": [
  {
   "cell_type": "code",
   "execution_count": 2,
   "metadata": {},
   "outputs": [
    {
     "ename": "ModuleNotFoundError",
     "evalue": "No module named 'mysql'",
     "output_type": "error",
     "traceback": [
      "\u001b[1;31m---------------------------------------------------------------------------\u001b[0m",
      "\u001b[1;31mModuleNotFoundError\u001b[0m                       Traceback (most recent call last)",
      "Cell \u001b[1;32mIn[2], line 1\u001b[0m\n\u001b[1;32m----> 1\u001b[0m \u001b[39mimport\u001b[39;00m \u001b[39mmysql\u001b[39;00m\u001b[39m.\u001b[39;00m\u001b[39mconnector\u001b[39;00m\n",
      "\u001b[1;31mModuleNotFoundError\u001b[0m: No module named 'mysql'"
     ]
    }
   ],
   "source": [
    "import mysql.connector\n"
   ]
  },
  {
   "cell_type": "code",
   "execution_count": 18,
   "metadata": {},
   "outputs": [
    {
     "ename": "DatabaseError",
     "evalue": "2005 (HY000): Unknown MySQL server host '23.102.103.53:5200' (8)",
     "output_type": "error",
     "traceback": [
      "\u001b[0;31m---------------------------------------------------------------------------\u001b[0m",
      "\u001b[0;31mMySQLInterfaceError\u001b[0m                       Traceback (most recent call last)",
      "File \u001b[0;32m/opt/homebrew/lib/python3.11/site-packages/mysql/connector/connection_cext.py:291\u001b[0m, in \u001b[0;36mCMySQLConnection._open_connection\u001b[0;34m(self)\u001b[0m\n\u001b[1;32m    290\u001b[0m \u001b[39mtry\u001b[39;00m:\n\u001b[0;32m--> 291\u001b[0m     \u001b[39mself\u001b[39;49m\u001b[39m.\u001b[39;49m_cmysql\u001b[39m.\u001b[39;49mconnect(\u001b[39m*\u001b[39;49m\u001b[39m*\u001b[39;49mcnx_kwargs)\n\u001b[1;32m    292\u001b[0m     \u001b[39mself\u001b[39m\u001b[39m.\u001b[39m_cmysql\u001b[39m.\u001b[39mconverter_str_fallback \u001b[39m=\u001b[39m \u001b[39mself\u001b[39m\u001b[39m.\u001b[39m_converter_str_fallback\n",
      "\u001b[0;31mMySQLInterfaceError\u001b[0m: Unknown MySQL server host '23.102.103.53:5200' (8)",
      "\nThe above exception was the direct cause of the following exception:\n",
      "\u001b[0;31mDatabaseError\u001b[0m                             Traceback (most recent call last)",
      "Cell \u001b[0;32mIn[18], line 15\u001b[0m\n\u001b[1;32m      7\u001b[0m config \u001b[39m=\u001b[39m {\n\u001b[1;32m      8\u001b[0m     \u001b[39m'\u001b[39m\u001b[39mhost\u001b[39m\u001b[39m'\u001b[39m: \u001b[39m'\u001b[39m\u001b[39m23.102.103.53:5200\u001b[39m\u001b[39m'\u001b[39m,\n\u001b[1;32m      9\u001b[0m     \u001b[39m'\u001b[39m\u001b[39muser\u001b[39m\u001b[39m'\u001b[39m: \u001b[39m'\u001b[39m\u001b[39mbmontenegroprueba\u001b[39m\u001b[39m'\u001b[39m,\n\u001b[1;32m     10\u001b[0m     \u001b[39m'\u001b[39m\u001b[39mpassword\u001b[39m\u001b[39m'\u001b[39m: \u001b[39m'\u001b[39m\u001b[39mbmontenegroprueba\u001b[39m\u001b[39m'\u001b[39m,\n\u001b[1;32m     11\u001b[0m     \u001b[39m'\u001b[39m\u001b[39mdatabase\u001b[39m\u001b[39m'\u001b[39m: \u001b[39m'\u001b[39m\u001b[39mBrayanMontenegro\u001b[39m\u001b[39m'\u001b[39m\n\u001b[1;32m     12\u001b[0m }\n\u001b[1;32m     14\u001b[0m \u001b[39m# Conectar a la base de datos\u001b[39;00m\n\u001b[0;32m---> 15\u001b[0m conn \u001b[39m=\u001b[39m mysql\u001b[39m.\u001b[39;49mconnector\u001b[39m.\u001b[39;49mconnect(\u001b[39m*\u001b[39;49m\u001b[39m*\u001b[39;49mconfig)\n",
      "File \u001b[0;32m/opt/homebrew/lib/python3.11/site-packages/mysql/connector/pooling.py:293\u001b[0m, in \u001b[0;36mconnect\u001b[0;34m(*args, **kwargs)\u001b[0m\n\u001b[1;32m    290\u001b[0m         \u001b[39mraise\u001b[39;00m \u001b[39mImportError\u001b[39;00m(ERROR_NO_CEXT)\n\u001b[1;32m    292\u001b[0m \u001b[39mif\u001b[39;00m CMySQLConnection \u001b[39mand\u001b[39;00m \u001b[39mnot\u001b[39;00m use_pure:\n\u001b[0;32m--> 293\u001b[0m     \u001b[39mreturn\u001b[39;00m CMySQLConnection(\u001b[39m*\u001b[39;49margs, \u001b[39m*\u001b[39;49m\u001b[39m*\u001b[39;49mkwargs)\n\u001b[1;32m    294\u001b[0m \u001b[39mreturn\u001b[39;00m MySQLConnection(\u001b[39m*\u001b[39margs, \u001b[39m*\u001b[39m\u001b[39m*\u001b[39mkwargs)\n",
      "File \u001b[0;32m/opt/homebrew/lib/python3.11/site-packages/mysql/connector/connection_cext.py:120\u001b[0m, in \u001b[0;36mCMySQLConnection.__init__\u001b[0;34m(self, **kwargs)\u001b[0m\n\u001b[1;32m    117\u001b[0m \u001b[39msuper\u001b[39m()\u001b[39m.\u001b[39m\u001b[39m__init__\u001b[39m()\n\u001b[1;32m    119\u001b[0m \u001b[39mif\u001b[39;00m kwargs:\n\u001b[0;32m--> 120\u001b[0m     \u001b[39mself\u001b[39;49m\u001b[39m.\u001b[39;49mconnect(\u001b[39m*\u001b[39;49m\u001b[39m*\u001b[39;49mkwargs)\n",
      "File \u001b[0;32m/opt/homebrew/lib/python3.11/site-packages/mysql/connector/abstracts.py:1181\u001b[0m, in \u001b[0;36mMySQLConnectionAbstract.connect\u001b[0;34m(self, **kwargs)\u001b[0m\n\u001b[1;32m   1178\u001b[0m     \u001b[39mself\u001b[39m\u001b[39m.\u001b[39mconfig(\u001b[39m*\u001b[39m\u001b[39m*\u001b[39mkwargs)\n\u001b[1;32m   1180\u001b[0m \u001b[39mself\u001b[39m\u001b[39m.\u001b[39mdisconnect()\n\u001b[0;32m-> 1181\u001b[0m \u001b[39mself\u001b[39;49m\u001b[39m.\u001b[39;49m_open_connection()\n\u001b[1;32m   1182\u001b[0m \u001b[39m# Server does not allow to run any other statement different from ALTER\u001b[39;00m\n\u001b[1;32m   1183\u001b[0m \u001b[39m# when user's password has been expired.\u001b[39;00m\n\u001b[1;32m   1184\u001b[0m \u001b[39mif\u001b[39;00m \u001b[39mnot\u001b[39;00m \u001b[39mself\u001b[39m\u001b[39m.\u001b[39m_client_flags \u001b[39m&\u001b[39m ClientFlag\u001b[39m.\u001b[39mCAN_HANDLE_EXPIRED_PASSWORDS:\n",
      "File \u001b[0;32m/opt/homebrew/lib/python3.11/site-packages/mysql/connector/connection_cext.py:296\u001b[0m, in \u001b[0;36mCMySQLConnection._open_connection\u001b[0;34m(self)\u001b[0m\n\u001b[1;32m    294\u001b[0m         \u001b[39mself\u001b[39m\u001b[39m.\u001b[39mconverter\u001b[39m.\u001b[39mstr_fallback \u001b[39m=\u001b[39m \u001b[39mself\u001b[39m\u001b[39m.\u001b[39m_converter_str_fallback\n\u001b[1;32m    295\u001b[0m \u001b[39mexcept\u001b[39;00m MySQLInterfaceError \u001b[39mas\u001b[39;00m err:\n\u001b[0;32m--> 296\u001b[0m     \u001b[39mraise\u001b[39;00m get_mysql_exception(\n\u001b[1;32m    297\u001b[0m         msg\u001b[39m=\u001b[39merr\u001b[39m.\u001b[39mmsg, errno\u001b[39m=\u001b[39merr\u001b[39m.\u001b[39merrno, sqlstate\u001b[39m=\u001b[39merr\u001b[39m.\u001b[39msqlstate\n\u001b[1;32m    298\u001b[0m     ) \u001b[39mfrom\u001b[39;00m \u001b[39merr\u001b[39;00m\n\u001b[1;32m    300\u001b[0m \u001b[39mself\u001b[39m\u001b[39m.\u001b[39m_do_handshake()\n",
      "\u001b[0;31mDatabaseError\u001b[0m: 2005 (HY000): Unknown MySQL server host '23.102.103.53:5200' (8)"
     ]
    }
   ],
   "source": [
    "# Establecer los detalles de conexión\n",
    "\"\"\"Base de datos\n",
    "Server:23.102.103.53\n",
    "Colección:BrayanMontenegro\n",
    "Usuario:bmontenegroprueba\n",
    "Contraseña:bmontenegroprueba\"\"\"\n",
    "config = {\n",
    "    'host': '23.102.103.53:5200',\n",
    "    'user': 'bmontenegroprueba',\n",
    "    'password': 'bmontenegroprueba',\n",
    "    'database': 'BrayanMontenegro'\n",
    "}\n",
    "\n",
    "# Conectar a la base de datos\n",
    "conn = mysql.connector.connect(**config)\n"
   ]
  },
  {
   "cell_type": "code",
   "execution_count": 2,
   "metadata": {},
   "outputs": [
    {
     "ename": "OperationalError",
     "evalue": "(2059, \"Plugin http could not be loaded: The specified module could not be found. Library path is 'http.dll'\")",
     "output_type": "error",
     "traceback": [
      "\u001b[1;31m---------------------------------------------------------------------------\u001b[0m",
      "\u001b[1;31mOperationalError\u001b[0m                          Traceback (most recent call last)",
      "Cell \u001b[1;32mIn[2], line 31\u001b[0m\n\u001b[0;32m     27\u001b[0m     conn\u001b[39m.\u001b[39mclose()                   \u001b[39m# Cerrar la conexión \u001b[39;00m\n\u001b[0;32m     29\u001b[0m     \u001b[39mreturn\u001b[39;00m data\n\u001b[1;32m---> 31\u001b[0m run_query(query\u001b[39m=\u001b[39;49m\u001b[39m'\u001b[39;49m\u001b[39mFROM *\u001b[39;49m\u001b[39m'\u001b[39;49m)\n",
      "Cell \u001b[1;32mIn[2], line 16\u001b[0m, in \u001b[0;36mrun_query\u001b[1;34m(query)\u001b[0m\n\u001b[0;32m     13\u001b[0m \u001b[39mdef\u001b[39;00m \u001b[39mrun_query\u001b[39m(query\u001b[39m=\u001b[39m\u001b[39m'\u001b[39m\u001b[39m'\u001b[39m): \n\u001b[0;32m     14\u001b[0m     datos \u001b[39m=\u001b[39m [DB_HOST, DB_USER, DB_PASS, DB_NAME] \n\u001b[1;32m---> 16\u001b[0m     conn \u001b[39m=\u001b[39m MySQLdb\u001b[39m.\u001b[39;49mconnect(\u001b[39m*\u001b[39;49mdatos) \u001b[39m# Conectar a la base de datos \u001b[39;00m\n\u001b[0;32m     17\u001b[0m     cursor \u001b[39m=\u001b[39m conn\u001b[39m.\u001b[39mcursor()         \u001b[39m# Crear un cursor \u001b[39;00m\n\u001b[0;32m     18\u001b[0m     cursor\u001b[39m.\u001b[39mexecute(query)          \u001b[39m# Ejecutar una consulta \u001b[39;00m\n",
      "File \u001b[1;32mc:\\Users\\Inspiron G15\\.conda\\envs\\IA_run\\lib\\site-packages\\MySQLdb\\__init__.py:123\u001b[0m, in \u001b[0;36mConnect\u001b[1;34m(*args, **kwargs)\u001b[0m\n\u001b[0;32m    120\u001b[0m \u001b[39m\"\"\"Factory function for connections.Connection.\"\"\"\u001b[39;00m\n\u001b[0;32m    121\u001b[0m \u001b[39mfrom\u001b[39;00m \u001b[39mMySQLdb\u001b[39;00m\u001b[39m.\u001b[39;00m\u001b[39mconnections\u001b[39;00m \u001b[39mimport\u001b[39;00m Connection\n\u001b[1;32m--> 123\u001b[0m \u001b[39mreturn\u001b[39;00m Connection(\u001b[39m*\u001b[39margs, \u001b[39m*\u001b[39m\u001b[39m*\u001b[39mkwargs)\n",
      "File \u001b[1;32mc:\\Users\\Inspiron G15\\.conda\\envs\\IA_run\\lib\\site-packages\\MySQLdb\\connections.py:185\u001b[0m, in \u001b[0;36mConnection.__init__\u001b[1;34m(self, *args, **kwargs)\u001b[0m\n\u001b[0;32m    182\u001b[0m \u001b[39m# PEP-249 requires autocommit to be initially off\u001b[39;00m\n\u001b[0;32m    183\u001b[0m autocommit \u001b[39m=\u001b[39m kwargs2\u001b[39m.\u001b[39mpop(\u001b[39m\"\u001b[39m\u001b[39mautocommit\u001b[39m\u001b[39m\"\u001b[39m, \u001b[39mFalse\u001b[39;00m)\n\u001b[1;32m--> 185\u001b[0m \u001b[39msuper\u001b[39m()\u001b[39m.\u001b[39m\u001b[39m__init__\u001b[39m(\u001b[39m*\u001b[39margs, \u001b[39m*\u001b[39m\u001b[39m*\u001b[39mkwargs2)\n\u001b[0;32m    186\u001b[0m \u001b[39mself\u001b[39m\u001b[39m.\u001b[39mcursorclass \u001b[39m=\u001b[39m cursorclass\n\u001b[0;32m    187\u001b[0m \u001b[39mself\u001b[39m\u001b[39m.\u001b[39mencoders \u001b[39m=\u001b[39m {k: v \u001b[39mfor\u001b[39;00m k, v \u001b[39min\u001b[39;00m conv\u001b[39m.\u001b[39mitems() \u001b[39mif\u001b[39;00m \u001b[39mtype\u001b[39m(k) \u001b[39mis\u001b[39;00m \u001b[39mnot\u001b[39;00m \u001b[39mint\u001b[39m}\n",
      "\u001b[1;31mOperationalError\u001b[0m: (2059, \"Plugin http could not be loaded: The specified module could not be found. Library path is 'http.dll'\")"
     ]
    }
   ],
   "source": [
    "import MySQLdb\n",
    "# Establecer los detalles de conexión\n",
    "\"\"\"Base de datos\n",
    "Server:23.102.103.53\n",
    "Colección:BrayanMontenegro\n",
    "Usuario:bmontenegroprueba\n",
    "Contraseña:bmontenegroprueba\"\"\"\n",
    "DB_HOST = 'http://23.102.103.53' \n",
    "DB_USER = 'bmontenegroprueba' \n",
    "DB_PASS = 'bmontenegroprueba' \n",
    "DB_NAME = 'BrayanMontenegro' \n",
    "\n",
    "def run_query(query=''): \n",
    "    datos = [DB_HOST, DB_USER, DB_PASS, DB_NAME] \n",
    "    \n",
    "    conn = MySQLdb.connect(*datos) # Conectar a la base de datos \n",
    "    cursor = conn.cursor()         # Crear un cursor \n",
    "    cursor.execute(query)          # Ejecutar una consulta \n",
    "\n",
    "    if query.upper().startswith('SELECT'): \n",
    "        data = cursor.fetchall()   # Traer los resultados de un select \n",
    "    else: \n",
    "        conn.commit()              # Hacer efectiva la escritura de datos \n",
    "        data = None \n",
    "    \n",
    "    cursor.close()                 # Cerrar el cursor \n",
    "    conn.close()                   # Cerrar la conexión \n",
    "\n",
    "    return data\n",
    "\n",
    "run_query(query='FROM *')"
   ]
  },
  {
   "cell_type": "code",
   "execution_count": 4,
   "metadata": {},
   "outputs": [
    {
     "ename": "InterfaceError",
     "evalue": "2003: Can't connect to MySQL server on '23.102.103.53:3306' (10061 No connection could be made because the target machine actively refused it)",
     "output_type": "error",
     "traceback": [
      "\u001b[1;31m---------------------------------------------------------------------------\u001b[0m",
      "\u001b[1;31mConnectionRefusedError\u001b[0m                    Traceback (most recent call last)",
      "File \u001b[1;32mc:\\Users\\Inspiron G15\\.conda\\envs\\IA_run\\lib\\site-packages\\mysql\\connector\\network.py:509\u001b[0m, in \u001b[0;36mMySQLTCPSocket.open_connection\u001b[1;34m(self)\u001b[0m\n\u001b[0;32m    508\u001b[0m     \u001b[39mself\u001b[39m\u001b[39m.\u001b[39msock\u001b[39m.\u001b[39msettimeout(\u001b[39mself\u001b[39m\u001b[39m.\u001b[39m_connection_timeout)\n\u001b[1;32m--> 509\u001b[0m     \u001b[39mself\u001b[39;49m\u001b[39m.\u001b[39;49msock\u001b[39m.\u001b[39;49mconnect(sockaddr)\n\u001b[0;32m    510\u001b[0m \u001b[39mexcept\u001b[39;00m \u001b[39mIOError\u001b[39;00m \u001b[39mas\u001b[39;00m err:\n",
      "\u001b[1;31mConnectionRefusedError\u001b[0m: [WinError 10061] No connection could be made because the target machine actively refused it",
      "\nDuring handling of the above exception, another exception occurred:\n",
      "\u001b[1;31mInterfaceError\u001b[0m                            Traceback (most recent call last)",
      "Cell \u001b[1;32mIn[4], line 7\u001b[0m\n\u001b[0;32m      5\u001b[0m DB_PASS \u001b[39m=\u001b[39m \u001b[39m'\u001b[39m\u001b[39mbmontenegroprueba\u001b[39m\u001b[39m'\u001b[39m \n\u001b[0;32m      6\u001b[0m DB_NAME \u001b[39m=\u001b[39m \u001b[39m'\u001b[39m\u001b[39mBrayanMontenegro\u001b[39m\u001b[39m'\u001b[39m \n\u001b[1;32m----> 7\u001b[0m conexion1\u001b[39m=\u001b[39mmysql\u001b[39m.\u001b[39;49mconnector\u001b[39m.\u001b[39;49mconnect(host\u001b[39m=\u001b[39;49mDB_HOST, user\u001b[39m=\u001b[39;49mDB_USER, passwd\u001b[39m=\u001b[39;49mDB_PASS, database\u001b[39m=\u001b[39;49mDB_NAME)\n\u001b[0;32m      8\u001b[0m cursor1\u001b[39m=\u001b[39mconexion1\u001b[39m.\u001b[39mcursor()\n\u001b[0;32m      9\u001b[0m cursor1\u001b[39m.\u001b[39mexecute(\u001b[39m\"\u001b[39m\u001b[39mshow databases\u001b[39m\u001b[39m\"\u001b[39m)\n",
      "File \u001b[1;32mc:\\Users\\Inspiron G15\\.conda\\envs\\IA_run\\lib\\site-packages\\mysql\\connector\\__init__.py:179\u001b[0m, in \u001b[0;36mconnect\u001b[1;34m(*args, **kwargs)\u001b[0m\n\u001b[0;32m    177\u001b[0m     \u001b[39mreturn\u001b[39;00m CMySQLConnection(\u001b[39m*\u001b[39margs, \u001b[39m*\u001b[39m\u001b[39m*\u001b[39mkwargs)\n\u001b[0;32m    178\u001b[0m \u001b[39melse\u001b[39;00m:\n\u001b[1;32m--> 179\u001b[0m     \u001b[39mreturn\u001b[39;00m MySQLConnection(\u001b[39m*\u001b[39margs, \u001b[39m*\u001b[39m\u001b[39m*\u001b[39mkwargs)\n",
      "File \u001b[1;32mc:\\Users\\Inspiron G15\\.conda\\envs\\IA_run\\lib\\site-packages\\mysql\\connector\\connection.py:95\u001b[0m, in \u001b[0;36mMySQLConnection.__init__\u001b[1;34m(self, *args, **kwargs)\u001b[0m\n\u001b[0;32m     92\u001b[0m \u001b[39mself\u001b[39m\u001b[39m.\u001b[39m_pool_config_version \u001b[39m=\u001b[39m \u001b[39mNone\u001b[39;00m\n\u001b[0;32m     94\u001b[0m \u001b[39mif\u001b[39;00m \u001b[39mlen\u001b[39m(kwargs) \u001b[39m>\u001b[39m \u001b[39m0\u001b[39m:\n\u001b[1;32m---> 95\u001b[0m     \u001b[39mself\u001b[39m\u001b[39m.\u001b[39mconnect(\u001b[39m*\u001b[39m\u001b[39m*\u001b[39mkwargs)\n",
      "File \u001b[1;32mc:\\Users\\Inspiron G15\\.conda\\envs\\IA_run\\lib\\site-packages\\mysql\\connector\\abstracts.py:716\u001b[0m, in \u001b[0;36mMySQLConnectionAbstract.connect\u001b[1;34m(self, **kwargs)\u001b[0m\n\u001b[0;32m    713\u001b[0m     \u001b[39mself\u001b[39m\u001b[39m.\u001b[39mconfig(\u001b[39m*\u001b[39m\u001b[39m*\u001b[39mkwargs)\n\u001b[0;32m    715\u001b[0m \u001b[39mself\u001b[39m\u001b[39m.\u001b[39mdisconnect()\n\u001b[1;32m--> 716\u001b[0m \u001b[39mself\u001b[39;49m\u001b[39m.\u001b[39;49m_open_connection()\n\u001b[0;32m    717\u001b[0m \u001b[39mself\u001b[39m\u001b[39m.\u001b[39m_post_connection()\n",
      "File \u001b[1;32mc:\\Users\\Inspiron G15\\.conda\\envs\\IA_run\\lib\\site-packages\\mysql\\connector\\connection.py:206\u001b[0m, in \u001b[0;36mMySQLConnection._open_connection\u001b[1;34m(self)\u001b[0m\n\u001b[0;32m    204\u001b[0m \u001b[39mself\u001b[39m\u001b[39m.\u001b[39m_protocol \u001b[39m=\u001b[39m MySQLProtocol()\n\u001b[0;32m    205\u001b[0m \u001b[39mself\u001b[39m\u001b[39m.\u001b[39m_socket \u001b[39m=\u001b[39m \u001b[39mself\u001b[39m\u001b[39m.\u001b[39m_get_connection()\n\u001b[1;32m--> 206\u001b[0m \u001b[39mself\u001b[39;49m\u001b[39m.\u001b[39;49m_socket\u001b[39m.\u001b[39;49mopen_connection()\n\u001b[0;32m    207\u001b[0m \u001b[39mself\u001b[39m\u001b[39m.\u001b[39m_do_handshake()\n\u001b[0;32m    208\u001b[0m \u001b[39mself\u001b[39m\u001b[39m.\u001b[39m_do_auth(\u001b[39mself\u001b[39m\u001b[39m.\u001b[39m_user, \u001b[39mself\u001b[39m\u001b[39m.\u001b[39m_password,\n\u001b[0;32m    209\u001b[0m               \u001b[39mself\u001b[39m\u001b[39m.\u001b[39m_database, \u001b[39mself\u001b[39m\u001b[39m.\u001b[39m_client_flags, \u001b[39mself\u001b[39m\u001b[39m.\u001b[39m_charset_id,\n\u001b[0;32m    210\u001b[0m               \u001b[39mself\u001b[39m\u001b[39m.\u001b[39m_ssl)\n",
      "File \u001b[1;32mc:\\Users\\Inspiron G15\\.conda\\envs\\IA_run\\lib\\site-packages\\mysql\\connector\\network.py:511\u001b[0m, in \u001b[0;36mMySQLTCPSocket.open_connection\u001b[1;34m(self)\u001b[0m\n\u001b[0;32m    509\u001b[0m     \u001b[39mself\u001b[39m\u001b[39m.\u001b[39msock\u001b[39m.\u001b[39mconnect(sockaddr)\n\u001b[0;32m    510\u001b[0m \u001b[39mexcept\u001b[39;00m \u001b[39mIOError\u001b[39;00m \u001b[39mas\u001b[39;00m err:\n\u001b[1;32m--> 511\u001b[0m     \u001b[39mraise\u001b[39;00m errors\u001b[39m.\u001b[39mInterfaceError(\n\u001b[0;32m    512\u001b[0m         errno\u001b[39m=\u001b[39m\u001b[39m2003\u001b[39m, values\u001b[39m=\u001b[39m(\u001b[39mself\u001b[39m\u001b[39m.\u001b[39mget_address(), _strioerror(err)))\n\u001b[0;32m    513\u001b[0m \u001b[39mexcept\u001b[39;00m \u001b[39mException\u001b[39;00m \u001b[39mas\u001b[39;00m err:\n\u001b[0;32m    514\u001b[0m     \u001b[39mraise\u001b[39;00m errors\u001b[39m.\u001b[39mOperationalError(\u001b[39mstr\u001b[39m(err))\n",
      "\u001b[1;31mInterfaceError\u001b[0m: 2003: Can't connect to MySQL server on '23.102.103.53:3306' (10061 No connection could be made because the target machine actively refused it)"
     ]
    }
   ],
   "source": [
    "#!pip install mysql-connector-python-rf\n",
    "import mysql.connector\n",
    "DB_HOST = '23.102.103.53' \n",
    "DB_USER = 'bmontenegroprueba' \n",
    "DB_PASS = 'bmontenegroprueba' \n",
    "DB_NAME = 'BrayanMontenegro' \n",
    "conexion1=mysql.connector.connect(host=DB_HOST, user=DB_USER, passwd=DB_PASS, database=DB_NAME)\n",
    "cursor1=conexion1.cursor()\n",
    "cursor1.execute(\"show databases\")\n",
    "for base in cursor1:\n",
    "    print(base)\n",
    "conexion1.close()    "
   ]
  },
  {
   "cell_type": "code",
   "execution_count": 8,
   "metadata": {},
   "outputs": [
    {
     "ename": "SyntaxError",
     "evalue": "unexpected character after line continuation character (3356619333.py, line 3)",
     "output_type": "error",
     "traceback": [
      "\u001b[1;36m  Cell \u001b[1;32mIn[8], line 3\u001b[1;36m\u001b[0m\n\u001b[1;33m    conn_str = (r\"DRIVER=Microsoft Access Driver (*.mdb, *.accdb); DBQ=\"networkdrive\\myDb.accdb;\") conn = pyodbc.connect(conn_str) crsr = conn.cursor()\u001b[0m\n\u001b[1;37m                                                                                     ^\u001b[0m\n\u001b[1;31mSyntaxError\u001b[0m\u001b[1;31m:\u001b[0m unexpected character after line continuation character\n"
     ]
    }
   ],
   "source": [
    "#!pip install pyodbc\n",
    "import pyodbc \n",
    "\n",
    "# Some other example server values are\n",
    "# server = 'localhost\\sqlexpress' # for a named instance\n",
    "# server = 'myserver,port' # to specify an alternate port\n",
    "server = 'tcp:myserver.database.windows.net' \n",
    "database = 'mydb' \n",
    "username = 'myusername' \n",
    "password = 'mypassword' \n",
    "# ENCRYPT defaults to yes starting in ODBC Driver 18. It's good to always specify ENCRYPT=yes on the client side to avoid MITM attacks.\n",
    "cnxn = pyodbc.connect('DRIVER={ODBC Driver 18 for SQL Server};SERVER='+server+';DATABASE='+database+';ENCRYPT=yes;UID='+username+';PWD='+ password)\n",
    "cursor = cnxn.cursor()"
   ]
  },
  {
   "cell_type": "code",
   "execution_count": null,
   "metadata": {},
   "outputs": [],
   "source": [
    "cursor = conn.cursor()\n",
    "query = \"SELECT * FROM ejemplo_tabla\"\n",
    "cursor.execute(query)\n",
    "for row in cursor.fetchall():\n",
    "    # Hacer algo con los datos de cada fila\n",
    "    print(row)\n"
   ]
  },
  {
   "cell_type": "code",
   "execution_count": null,
   "metadata": {},
   "outputs": [],
   "source": [
    "cursor.close()\n",
    "conn.close()\n"
   ]
  },
  {
   "cell_type": "code",
   "execution_count": 7,
   "metadata": {},
   "outputs": [],
   "source": [
    "from pymongo import MongoClient\n",
    "\n",
    "\n"
   ]
  },
  {
   "cell_type": "code",
   "execution_count": 15,
   "metadata": {},
   "outputs": [
    {
     "data": {
      "text/plain": [
       "MongoClient(host=['23.102.103.53:27017'], document_class=dict, tz_aware=False, connect=True)"
      ]
     },
     "execution_count": 15,
     "metadata": {},
     "output_type": "execute_result"
    }
   ],
   "source": [
    "\"\"\"Base de datos\n",
    "Server:23.102.103.53\n",
    "Colección:BrayanMontenegro\n",
    "Usuario:bmontenegroprueba\n",
    "Contraseña:bmontenegroprueba\"\"\"\n",
    "# Establecer los detalles de conexión\n",
    "host = '23.102.103.53'\n",
    "port = 27017\n",
    "username = 'bmontenegroprueba'\n",
    "password = 'bmontenegroprueba'\n",
    "\n",
    "# Crear el objeto de cliente MongoDB con autenticación\n",
    "client = MongoClient(host, port, username=username, password=password)\n",
    "client\n"
   ]
  },
  {
   "cell_type": "code",
   "execution_count": 16,
   "metadata": {},
   "outputs": [
    {
     "name": "stdout",
     "output_type": "stream",
     "text": [
      "Collection(Database(MongoClient(host=['23.102.103.53:27017'], document_class=dict, tz_aware=False, connect=True), 'BrayanMontenegro'), 'BrayanMontenegro')\n",
      "<pymongo.cursor.Cursor object at 0x10ac9aa10>\n"
     ]
    },
    {
     "ename": "ServerSelectionTimeoutError",
     "evalue": "23.102.103.53:27017: [Errno 61] Connection refused, Timeout: 30s, Topology Description: <TopologyDescription id: 647776cd85a38ba08543d426, topology_type: Unknown, servers: [<ServerDescription ('23.102.103.53', 27017) server_type: Unknown, rtt: None, error=AutoReconnect('23.102.103.53:27017: [Errno 61] Connection refused')>]>",
     "output_type": "error",
     "traceback": [
      "\u001b[0;31m---------------------------------------------------------------------------\u001b[0m",
      "\u001b[0;31mServerSelectionTimeoutError\u001b[0m               Traceback (most recent call last)",
      "Cell \u001b[0;32mIn[16], line 10\u001b[0m\n\u001b[1;32m      8\u001b[0m \u001b[39mprint\u001b[39m(documents)\n\u001b[1;32m      9\u001b[0m \u001b[39m# Recorrer los documentos obtenidos\u001b[39;00m\n\u001b[0;32m---> 10\u001b[0m \u001b[39mfor\u001b[39;00m document \u001b[39min\u001b[39;00m documents:\n\u001b[1;32m     11\u001b[0m     \u001b[39mprint\u001b[39m(document)\n\u001b[1;32m     13\u001b[0m client\u001b[39m.\u001b[39mclose()\n",
      "File \u001b[0;32m/opt/homebrew/lib/python3.11/site-packages/pymongo/cursor.py:1248\u001b[0m, in \u001b[0;36mCursor.next\u001b[0;34m(self)\u001b[0m\n\u001b[1;32m   1246\u001b[0m \u001b[39mif\u001b[39;00m \u001b[39mself\u001b[39m\u001b[39m.\u001b[39m__empty:\n\u001b[1;32m   1247\u001b[0m     \u001b[39mraise\u001b[39;00m \u001b[39mStopIteration\u001b[39;00m\n\u001b[0;32m-> 1248\u001b[0m \u001b[39mif\u001b[39;00m \u001b[39mlen\u001b[39m(\u001b[39mself\u001b[39m\u001b[39m.\u001b[39m__data) \u001b[39mor\u001b[39;00m \u001b[39mself\u001b[39;49m\u001b[39m.\u001b[39;49m_refresh():\n\u001b[1;32m   1249\u001b[0m     \u001b[39mreturn\u001b[39;00m \u001b[39mself\u001b[39m\u001b[39m.\u001b[39m__data\u001b[39m.\u001b[39mpopleft()\n\u001b[1;32m   1250\u001b[0m \u001b[39melse\u001b[39;00m:\n",
      "File \u001b[0;32m/opt/homebrew/lib/python3.11/site-packages/pymongo/cursor.py:1139\u001b[0m, in \u001b[0;36mCursor._refresh\u001b[0;34m(self)\u001b[0m\n\u001b[1;32m   1136\u001b[0m     \u001b[39mreturn\u001b[39;00m \u001b[39mlen\u001b[39m(\u001b[39mself\u001b[39m\u001b[39m.\u001b[39m__data)\n\u001b[1;32m   1138\u001b[0m \u001b[39mif\u001b[39;00m \u001b[39mnot\u001b[39;00m \u001b[39mself\u001b[39m\u001b[39m.\u001b[39m__session:\n\u001b[0;32m-> 1139\u001b[0m     \u001b[39mself\u001b[39m\u001b[39m.\u001b[39m__session \u001b[39m=\u001b[39m \u001b[39mself\u001b[39;49m\u001b[39m.\u001b[39;49m__collection\u001b[39m.\u001b[39;49mdatabase\u001b[39m.\u001b[39;49mclient\u001b[39m.\u001b[39;49m_ensure_session()\n\u001b[1;32m   1141\u001b[0m \u001b[39mif\u001b[39;00m \u001b[39mself\u001b[39m\u001b[39m.\u001b[39m__id \u001b[39mis\u001b[39;00m \u001b[39mNone\u001b[39;00m:  \u001b[39m# Query\u001b[39;00m\n\u001b[1;32m   1142\u001b[0m     \u001b[39mif\u001b[39;00m (\u001b[39mself\u001b[39m\u001b[39m.\u001b[39m__min \u001b[39mor\u001b[39;00m \u001b[39mself\u001b[39m\u001b[39m.\u001b[39m__max) \u001b[39mand\u001b[39;00m \u001b[39mnot\u001b[39;00m \u001b[39mself\u001b[39m\u001b[39m.\u001b[39m__hint:\n",
      "File \u001b[0;32m/opt/homebrew/lib/python3.11/site-packages/pymongo/mongo_client.py:1740\u001b[0m, in \u001b[0;36mMongoClient._ensure_session\u001b[0;34m(self, session)\u001b[0m\n\u001b[1;32m   1735\u001b[0m     \u001b[39mreturn\u001b[39;00m session\n\u001b[1;32m   1737\u001b[0m \u001b[39mtry\u001b[39;00m:\n\u001b[1;32m   1738\u001b[0m     \u001b[39m# Don't make implicit sessions causally consistent. Applications\u001b[39;00m\n\u001b[1;32m   1739\u001b[0m     \u001b[39m# should always opt-in.\u001b[39;00m\n\u001b[0;32m-> 1740\u001b[0m     \u001b[39mreturn\u001b[39;00m \u001b[39mself\u001b[39;49m\u001b[39m.\u001b[39;49m__start_session(\u001b[39mTrue\u001b[39;49;00m, causal_consistency\u001b[39m=\u001b[39;49m\u001b[39mFalse\u001b[39;49;00m)\n\u001b[1;32m   1741\u001b[0m \u001b[39mexcept\u001b[39;00m (ConfigurationError, InvalidOperation):\n\u001b[1;32m   1742\u001b[0m     \u001b[39m# Sessions not supported.\u001b[39;00m\n\u001b[1;32m   1743\u001b[0m     \u001b[39mreturn\u001b[39;00m \u001b[39mNone\u001b[39;00m\n",
      "File \u001b[0;32m/opt/homebrew/lib/python3.11/site-packages/pymongo/mongo_client.py:1685\u001b[0m, in \u001b[0;36mMongoClient.__start_session\u001b[0;34m(self, implicit, **kwargs)\u001b[0m\n\u001b[1;32m   1682\u001b[0m \u001b[39mdef\u001b[39;00m \u001b[39m__start_session\u001b[39m(\u001b[39mself\u001b[39m, implicit, \u001b[39m*\u001b[39m\u001b[39m*\u001b[39mkwargs):\n\u001b[1;32m   1683\u001b[0m     \u001b[39m# Raises ConfigurationError if sessions are not supported.\u001b[39;00m\n\u001b[1;32m   1684\u001b[0m     \u001b[39mif\u001b[39;00m implicit:\n\u001b[0;32m-> 1685\u001b[0m         \u001b[39mself\u001b[39;49m\u001b[39m.\u001b[39;49m_topology\u001b[39m.\u001b[39;49m_check_implicit_session_support()\n\u001b[1;32m   1686\u001b[0m         server_session \u001b[39m=\u001b[39m _EmptyServerSession()\n\u001b[1;32m   1687\u001b[0m     \u001b[39melse\u001b[39;00m:\n",
      "File \u001b[0;32m/opt/homebrew/lib/python3.11/site-packages/pymongo/topology.py:538\u001b[0m, in \u001b[0;36mTopology._check_implicit_session_support\u001b[0;34m(self)\u001b[0m\n\u001b[1;32m    536\u001b[0m \u001b[39mdef\u001b[39;00m \u001b[39m_check_implicit_session_support\u001b[39m(\u001b[39mself\u001b[39m):\n\u001b[1;32m    537\u001b[0m     \u001b[39mwith\u001b[39;00m \u001b[39mself\u001b[39m\u001b[39m.\u001b[39m_lock:\n\u001b[0;32m--> 538\u001b[0m         \u001b[39mself\u001b[39;49m\u001b[39m.\u001b[39;49m_check_session_support()\n",
      "File \u001b[0;32m/opt/homebrew/lib/python3.11/site-packages/pymongo/topology.py:554\u001b[0m, in \u001b[0;36mTopology._check_session_support\u001b[0;34m(self)\u001b[0m\n\u001b[1;32m    550\u001b[0m         \u001b[39mself\u001b[39m\u001b[39m.\u001b[39m_select_servers_loop(\n\u001b[1;32m    551\u001b[0m             any_server_selector, \u001b[39mself\u001b[39m\u001b[39m.\u001b[39mget_server_selection_timeout(), \u001b[39mNone\u001b[39;00m\n\u001b[1;32m    552\u001b[0m         )\n\u001b[1;32m    553\u001b[0m \u001b[39melif\u001b[39;00m \u001b[39mnot\u001b[39;00m \u001b[39mself\u001b[39m\u001b[39m.\u001b[39m_description\u001b[39m.\u001b[39mreadable_servers:\n\u001b[0;32m--> 554\u001b[0m     \u001b[39mself\u001b[39;49m\u001b[39m.\u001b[39;49m_select_servers_loop(\n\u001b[1;32m    555\u001b[0m         readable_server_selector, \u001b[39mself\u001b[39;49m\u001b[39m.\u001b[39;49mget_server_selection_timeout(), \u001b[39mNone\u001b[39;49;00m\n\u001b[1;32m    556\u001b[0m     )\n\u001b[1;32m    558\u001b[0m session_timeout \u001b[39m=\u001b[39m \u001b[39mself\u001b[39m\u001b[39m.\u001b[39m_description\u001b[39m.\u001b[39mlogical_session_timeout_minutes\n\u001b[1;32m    559\u001b[0m \u001b[39mif\u001b[39;00m session_timeout \u001b[39mis\u001b[39;00m \u001b[39mNone\u001b[39;00m:\n",
      "File \u001b[0;32m/opt/homebrew/lib/python3.11/site-packages/pymongo/topology.py:238\u001b[0m, in \u001b[0;36mTopology._select_servers_loop\u001b[0;34m(self, selector, timeout, address)\u001b[0m\n\u001b[1;32m    235\u001b[0m \u001b[39mwhile\u001b[39;00m \u001b[39mnot\u001b[39;00m server_descriptions:\n\u001b[1;32m    236\u001b[0m     \u001b[39m# No suitable servers.\u001b[39;00m\n\u001b[1;32m    237\u001b[0m     \u001b[39mif\u001b[39;00m timeout \u001b[39m==\u001b[39m \u001b[39m0\u001b[39m \u001b[39mor\u001b[39;00m now \u001b[39m>\u001b[39m end_time:\n\u001b[0;32m--> 238\u001b[0m         \u001b[39mraise\u001b[39;00m ServerSelectionTimeoutError(\n\u001b[1;32m    239\u001b[0m             \u001b[39m\"\u001b[39m\u001b[39m%s\u001b[39;00m\u001b[39m, Timeout: \u001b[39m\u001b[39m%s\u001b[39;00m\u001b[39ms, Topology Description: \u001b[39m\u001b[39m%r\u001b[39;00m\u001b[39m\"\u001b[39m\n\u001b[1;32m    240\u001b[0m             \u001b[39m%\u001b[39m (\u001b[39mself\u001b[39m\u001b[39m.\u001b[39m_error_message(selector), timeout, \u001b[39mself\u001b[39m\u001b[39m.\u001b[39mdescription)\n\u001b[1;32m    241\u001b[0m         )\n\u001b[1;32m    243\u001b[0m     \u001b[39mself\u001b[39m\u001b[39m.\u001b[39m_ensure_opened()\n\u001b[1;32m    244\u001b[0m     \u001b[39mself\u001b[39m\u001b[39m.\u001b[39m_request_check_all()\n",
      "\u001b[0;31mServerSelectionTimeoutError\u001b[0m: 23.102.103.53:27017: [Errno 61] Connection refused, Timeout: 30s, Topology Description: <TopologyDescription id: 647776cd85a38ba08543d426, topology_type: Unknown, servers: [<ServerDescription ('23.102.103.53', 27017) server_type: Unknown, rtt: None, error=AutoReconnect('23.102.103.53:27017: [Errno 61] Connection refused')>]>"
     ]
    }
   ],
   "source": [
    "# Acceder a una base de datos\n",
    "db = client['BrayanMontenegro']\n",
    "# Acceder a una colección\n",
    "collection = db['BrayanMontenegro']\n",
    "print(collection)\n",
    "# Encontrar todos los documentos en una colección\n",
    "documents = collection.find()\n",
    "print(documents)\n",
    "# Recorrer los documentos obtenidos\n",
    "for document in documents:\n",
    "    print(document)\n",
    "\n",
    "client.close()\n"
   ]
  },
  {
   "cell_type": "code",
   "execution_count": 14,
   "metadata": {},
   "outputs": [],
   "source": [
    "\n",
    "client.close()"
   ]
  },
  {
   "cell_type": "code",
   "execution_count": 4,
   "metadata": {},
   "outputs": [
    {
     "ename": "ModuleNotFoundError",
     "evalue": "No module named 'pyodbc'",
     "output_type": "error",
     "traceback": [
      "\u001b[1;31m---------------------------------------------------------------------------\u001b[0m",
      "\u001b[1;31mModuleNotFoundError\u001b[0m                       Traceback (most recent call last)",
      "Cell \u001b[1;32mIn[4], line 1\u001b[0m\n\u001b[1;32m----> 1\u001b[0m \u001b[39mimport\u001b[39;00m \u001b[39mpyodbc\u001b[39;00m\n",
      "\u001b[1;31mModuleNotFoundError\u001b[0m: No module named 'pyodbc'"
     ]
    }
   ],
   "source": [
    "import pyodbc"
   ]
  },
  {
   "cell_type": "code",
   "execution_count": 7,
   "metadata": {},
   "outputs": [
    {
     "ename": "AttributeError",
     "evalue": "partially initialized module 'charset_normalizer' has no attribute 'md__mypyc' (most likely due to a circular import)",
     "output_type": "error",
     "traceback": [
      "\u001b[1;31m---------------------------------------------------------------------------\u001b[0m",
      "\u001b[1;31mAttributeError\u001b[0m                            Traceback (most recent call last)",
      "Cell \u001b[1;32mIn[7], line 2\u001b[0m\n\u001b[0;32m      1\u001b[0m \u001b[39m#\"login for make token\"\u001b[39;00m\n\u001b[1;32m----> 2\u001b[0m \u001b[39mimport\u001b[39;00m \u001b[39mrequests\u001b[39;00m\n\u001b[0;32m      3\u001b[0m \u001b[39mimport\u001b[39;00m \u001b[39mjson\u001b[39;00m\n\u001b[0;32m      5\u001b[0m \u001b[39m\"\"\"    'host': '23.102.103.53:5200',\u001b[39;00m\n\u001b[0;32m      6\u001b[0m \u001b[39m    'user': 'bmontenegroprueba',\u001b[39;00m\n\u001b[0;32m      7\u001b[0m \u001b[39m    'password': 'bmontenegroprueba',\u001b[39;00m\n\u001b[0;32m      8\u001b[0m \u001b[39m    'database': 'BrayanMontenegro'\"\"\"\u001b[39;00m\n",
      "File \u001b[1;32mc:\\Users\\Inspiron G15\\.conda\\envs\\IA_run\\lib\\site-packages\\requests\\__init__.py:48\u001b[0m\n\u001b[0;32m     45\u001b[0m \u001b[39mfrom\u001b[39;00m \u001b[39m.\u001b[39;00m\u001b[39mexceptions\u001b[39;00m \u001b[39mimport\u001b[39;00m RequestsDependencyWarning\n\u001b[0;32m     47\u001b[0m \u001b[39mtry\u001b[39;00m:\n\u001b[1;32m---> 48\u001b[0m     \u001b[39mfrom\u001b[39;00m \u001b[39mcharset_normalizer\u001b[39;00m \u001b[39mimport\u001b[39;00m __version__ \u001b[39mas\u001b[39;00m charset_normalizer_version\n\u001b[0;32m     49\u001b[0m \u001b[39mexcept\u001b[39;00m \u001b[39mImportError\u001b[39;00m:\n\u001b[0;32m     50\u001b[0m     charset_normalizer_version \u001b[39m=\u001b[39m \u001b[39mNone\u001b[39;00m\n",
      "File \u001b[1;32mc:\\Users\\Inspiron G15\\.conda\\envs\\IA_run\\lib\\site-packages\\charset_normalizer\\__init__.py:23\u001b[0m\n\u001b[0;32m      1\u001b[0m \u001b[39m\"\"\"\u001b[39;00m\n\u001b[0;32m      2\u001b[0m \u001b[39mCharset-Normalizer\u001b[39;00m\n\u001b[0;32m      3\u001b[0m \u001b[39m~~~~~~~~~~~~~~\u001b[39;00m\n\u001b[1;32m   (...)\u001b[0m\n\u001b[0;32m     21\u001b[0m \u001b[39m:license: MIT, see LICENSE for more details.\u001b[39;00m\n\u001b[0;32m     22\u001b[0m \u001b[39m\"\"\"\u001b[39;00m\n\u001b[1;32m---> 23\u001b[0m \u001b[39mfrom\u001b[39;00m \u001b[39mcharset_normalizer\u001b[39;00m\u001b[39m.\u001b[39;00m\u001b[39mapi\u001b[39;00m \u001b[39mimport\u001b[39;00m from_fp, from_path, from_bytes, normalize\n\u001b[0;32m     24\u001b[0m \u001b[39mfrom\u001b[39;00m \u001b[39mcharset_normalizer\u001b[39;00m\u001b[39m.\u001b[39;00m\u001b[39mlegacy\u001b[39;00m \u001b[39mimport\u001b[39;00m detect\n\u001b[0;32m     25\u001b[0m \u001b[39mfrom\u001b[39;00m \u001b[39mcharset_normalizer\u001b[39;00m\u001b[39m.\u001b[39;00m\u001b[39mversion\u001b[39;00m \u001b[39mimport\u001b[39;00m __version__, VERSION\n",
      "File \u001b[1;32mc:\\Users\\Inspiron G15\\.conda\\envs\\IA_run\\lib\\site-packages\\charset_normalizer\\api.py:10\u001b[0m\n\u001b[0;32m      7\u001b[0m     PathLike \u001b[39m=\u001b[39m Union[\u001b[39mstr\u001b[39m, \u001b[39m'\u001b[39m\u001b[39mos.PathLike[str]\u001b[39m\u001b[39m'\u001b[39m]  \u001b[39m# type: ignore\u001b[39;00m\n\u001b[0;32m      9\u001b[0m \u001b[39mfrom\u001b[39;00m \u001b[39mcharset_normalizer\u001b[39;00m\u001b[39m.\u001b[39;00m\u001b[39mconstant\u001b[39;00m \u001b[39mimport\u001b[39;00m TOO_SMALL_SEQUENCE, TOO_BIG_SEQUENCE, IANA_SUPPORTED\n\u001b[1;32m---> 10\u001b[0m \u001b[39mfrom\u001b[39;00m \u001b[39mcharset_normalizer\u001b[39;00m\u001b[39m.\u001b[39;00m\u001b[39mmd\u001b[39;00m \u001b[39mimport\u001b[39;00m mess_ratio\n\u001b[0;32m     11\u001b[0m \u001b[39mfrom\u001b[39;00m \u001b[39mcharset_normalizer\u001b[39;00m\u001b[39m.\u001b[39;00m\u001b[39mmodels\u001b[39;00m \u001b[39mimport\u001b[39;00m CharsetMatches, CharsetMatch\n\u001b[0;32m     12\u001b[0m \u001b[39mfrom\u001b[39;00m \u001b[39mwarnings\u001b[39;00m \u001b[39mimport\u001b[39;00m warn\n",
      "\u001b[1;31mAttributeError\u001b[0m: partially initialized module 'charset_normalizer' has no attribute 'md__mypyc' (most likely due to a circular import)"
     ]
    }
   ],
   "source": [
    "#\"login for make token\"\n",
    "import requests\n",
    "import json\n",
    "\n",
    "\"\"\"    'host': '23.102.103.53:5200',\n",
    "    'user': 'bmontenegroprueba',\n",
    "    'password': 'bmontenegroprueba',\n",
    "    'database': 'BrayanMontenegro'\"\"\"\n",
    "url = \"http://23.102.103.53:5200/api/Login\"\n",
    "param = {\n",
    "    \"userName\":\"bmontenegroprueba\",\n",
    "    \"password\":\"bmontenegroprueba\"\n",
    "}\n",
    "response = requests.post(url, json=param)\n",
    "token = response\n",
    "print(token)\n"
   ]
  },
  {
   "cell_type": "code",
   "execution_count": 6,
   "metadata": {},
   "outputs": [
    {
     "name": "stdout",
     "output_type": "stream",
     "text": [
      "Collecting chardet\n",
      "  Downloading chardet-5.1.0-py3-none-any.whl (199 kB)\n",
      "     ---------------------------------------- 0.0/199.1 kB ? eta -:--:--\n",
      "     -------------------------------------- 199.1/199.1 kB 4.0 MB/s eta 0:00:00\n",
      "Installing collected packages: chardet\n",
      "Successfully installed chardet-5.1.0\n"
     ]
    }
   ],
   "source": [
    "!pip install \n"
   ]
  }
 ],
 "metadata": {
  "kernelspec": {
   "display_name": "Python 3 (ipykernel)",
   "language": "python",
   "name": "python3"
  },
  "language_info": {
   "codemirror_mode": {
    "name": "ipython",
    "version": 3
   },
   "file_extension": ".py",
   "mimetype": "text/x-python",
   "name": "python",
   "nbconvert_exporter": "python",
   "pygments_lexer": "ipython3",
   "version": "3.10.10"
  }
 },
 "nbformat": 4,
 "nbformat_minor": 2
}
