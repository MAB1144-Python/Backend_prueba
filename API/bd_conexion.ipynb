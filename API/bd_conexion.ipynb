{
 "cells": [
  {
   "cell_type": "code",
   "execution_count": 2,
   "metadata": {},
   "outputs": [
    {
     "name": "stdout",
     "output_type": "stream",
     "text": [
      "Collecting pymysql\n",
      "  Downloading PyMySQL-1.0.3-py3-none-any.whl (43 kB)\n",
      "\u001b[2K     \u001b[90m━━━━━━━━━━━━━━━━━━━━━━━━━━━━━━━━━━━━━━━━\u001b[0m \u001b[32m43.7/43.7 kB\u001b[0m \u001b[31m1.3 MB/s\u001b[0m eta \u001b[36m0:00:00\u001b[0m\n",
      "\u001b[?25hInstalling collected packages: pymysql\n",
      "Successfully installed pymysql-1.0.3\n"
     ]
    }
   ],
   "source": [
    "!pip install pymysql"
   ]
  },
  {
   "cell_type": "code",
   "execution_count": 4,
   "metadata": {},
   "outputs": [
    {
     "data": {
      "text/plain": [
       "<peewee.MySQLDatabase at 0x1073fbf10>"
      ]
     },
     "execution_count": 4,
     "metadata": {},
     "output_type": "execute_result"
    }
   ],
   "source": [
    "from peewee import *\n",
    "# Connect to a MySQL database on network.\n",
    "#Base de datos\n",
    "Server = '23.102.103.53'\n",
    "Colección = 'BrayanMontenegro'\n",
    "Usuario = 'bmontenegroprueba'\n",
    "Contraseña = 'bmontenegroprueba'\n",
    "port_ok = True\n",
    "port_cont = 2105\n",
    "mysql_db = MySQLDatabase('BrayanMontenegro', user=Usuario, password=Contraseña,\n",
    "                                host=Server)\n",
    "mysql_db"
   ]
  },
  {
   "cell_type": "code",
   "execution_count": 8,
   "metadata": {},
   "outputs": [
    {
     "ename": "OperationalError",
     "evalue": "(2003, \"Can't connect to MySQL server on '23.102.103.53' ([Errno 61] Connection refused)\")",
     "output_type": "error",
     "traceback": [
      "\u001b[0;31m---------------------------------------------------------------------------\u001b[0m",
      "\u001b[0;31mConnectionRefusedError\u001b[0m                    Traceback (most recent call last)",
      "File \u001b[0;32m/opt/homebrew/lib/python3.11/site-packages/pymysql/connections.py:616\u001b[0m, in \u001b[0;36mConnection.connect\u001b[0;34m(self, sock)\u001b[0m\n\u001b[1;32m    615\u001b[0m \u001b[39mtry\u001b[39;00m:\n\u001b[0;32m--> 616\u001b[0m     sock \u001b[39m=\u001b[39m socket\u001b[39m.\u001b[39;49mcreate_connection(\n\u001b[1;32m    617\u001b[0m         (\u001b[39mself\u001b[39;49m\u001b[39m.\u001b[39;49mhost, \u001b[39mself\u001b[39;49m\u001b[39m.\u001b[39;49mport), \u001b[39mself\u001b[39;49m\u001b[39m.\u001b[39;49mconnect_timeout, \u001b[39m*\u001b[39;49m\u001b[39m*\u001b[39;49mkwargs\n\u001b[1;32m    618\u001b[0m     )\n\u001b[1;32m    619\u001b[0m     \u001b[39mbreak\u001b[39;00m\n",
      "File \u001b[0;32m/opt/homebrew/Cellar/python@3.11/3.11.3/Frameworks/Python.framework/Versions/3.11/lib/python3.11/socket.py:851\u001b[0m, in \u001b[0;36mcreate_connection\u001b[0;34m(address, timeout, source_address, all_errors)\u001b[0m\n\u001b[1;32m    850\u001b[0m \u001b[39mif\u001b[39;00m \u001b[39mnot\u001b[39;00m all_errors:\n\u001b[0;32m--> 851\u001b[0m     \u001b[39mraise\u001b[39;00m exceptions[\u001b[39m0\u001b[39m]\n\u001b[1;32m    852\u001b[0m \u001b[39mraise\u001b[39;00m ExceptionGroup(\u001b[39m\"\u001b[39m\u001b[39mcreate_connection failed\u001b[39m\u001b[39m\"\u001b[39m, exceptions)\n",
      "File \u001b[0;32m/opt/homebrew/Cellar/python@3.11/3.11.3/Frameworks/Python.framework/Versions/3.11/lib/python3.11/socket.py:836\u001b[0m, in \u001b[0;36mcreate_connection\u001b[0;34m(address, timeout, source_address, all_errors)\u001b[0m\n\u001b[1;32m    835\u001b[0m     sock\u001b[39m.\u001b[39mbind(source_address)\n\u001b[0;32m--> 836\u001b[0m sock\u001b[39m.\u001b[39;49mconnect(sa)\n\u001b[1;32m    837\u001b[0m \u001b[39m# Break explicitly a reference cycle\u001b[39;00m\n",
      "\u001b[0;31mConnectionRefusedError\u001b[0m: [Errno 61] Connection refused",
      "\nDuring handling of the above exception, another exception occurred:\n",
      "\u001b[0;31mOperationalError\u001b[0m                          Traceback (most recent call last)",
      "File \u001b[0;32m/opt/homebrew/lib/python3.11/site-packages/peewee.py:3187\u001b[0m, in \u001b[0;36mDatabase.connect\u001b[0;34m(self, reuse_if_open)\u001b[0m\n\u001b[1;32m   3186\u001b[0m \u001b[39mwith\u001b[39;00m __exception_wrapper__:\n\u001b[0;32m-> 3187\u001b[0m     \u001b[39mself\u001b[39m\u001b[39m.\u001b[39m_state\u001b[39m.\u001b[39mset_connection(\u001b[39mself\u001b[39;49m\u001b[39m.\u001b[39;49m_connect())\n\u001b[1;32m   3188\u001b[0m     \u001b[39mif\u001b[39;00m \u001b[39mself\u001b[39m\u001b[39m.\u001b[39mserver_version \u001b[39mis\u001b[39;00m \u001b[39mNone\u001b[39;00m:\n",
      "File \u001b[0;32m/opt/homebrew/lib/python3.11/site-packages/peewee.py:4144\u001b[0m, in \u001b[0;36mMySQLDatabase._connect\u001b[0;34m(self)\u001b[0m\n\u001b[1;32m   4143\u001b[0m     \u001b[39mraise\u001b[39;00m ImproperlyConfigured(\u001b[39m'\u001b[39m\u001b[39mMySQL driver not installed!\u001b[39m\u001b[39m'\u001b[39m)\n\u001b[0;32m-> 4144\u001b[0m conn \u001b[39m=\u001b[39m mysql\u001b[39m.\u001b[39;49mconnect(db\u001b[39m=\u001b[39;49m\u001b[39mself\u001b[39;49m\u001b[39m.\u001b[39;49mdatabase, autocommit\u001b[39m=\u001b[39;49m\u001b[39mTrue\u001b[39;49;00m,\n\u001b[1;32m   4145\u001b[0m                      \u001b[39m*\u001b[39;49m\u001b[39m*\u001b[39;49m\u001b[39mself\u001b[39;49m\u001b[39m.\u001b[39;49mconnect_params)\n\u001b[1;32m   4146\u001b[0m \u001b[39mreturn\u001b[39;00m conn\n",
      "File \u001b[0;32m/opt/homebrew/lib/python3.11/site-packages/pymysql/connections.py:352\u001b[0m, in \u001b[0;36mConnection.__init__\u001b[0;34m(self, user, password, host, database, unix_socket, port, charset, sql_mode, read_default_file, conv, use_unicode, client_flag, cursorclass, init_command, connect_timeout, read_default_group, autocommit, local_infile, max_allowed_packet, defer_connect, auth_plugin_map, read_timeout, write_timeout, bind_address, binary_prefix, program_name, server_public_key, ssl, ssl_ca, ssl_cert, ssl_disabled, ssl_key, ssl_verify_cert, ssl_verify_identity, compress, named_pipe, passwd, db)\u001b[0m\n\u001b[1;32m    351\u001b[0m \u001b[39melse\u001b[39;00m:\n\u001b[0;32m--> 352\u001b[0m     \u001b[39mself\u001b[39;49m\u001b[39m.\u001b[39;49mconnect()\n",
      "File \u001b[0;32m/opt/homebrew/lib/python3.11/site-packages/pymysql/connections.py:668\u001b[0m, in \u001b[0;36mConnection.connect\u001b[0;34m(self, sock)\u001b[0m\n\u001b[1;32m    667\u001b[0m         \u001b[39mprint\u001b[39m(exc\u001b[39m.\u001b[39mtraceback)\n\u001b[0;32m--> 668\u001b[0m     \u001b[39mraise\u001b[39;00m exc\n\u001b[1;32m    670\u001b[0m \u001b[39m# If e is neither DatabaseError or IOError, It's a bug.\u001b[39;00m\n\u001b[1;32m    671\u001b[0m \u001b[39m# But raising AssertionError hides original error.\u001b[39;00m\n\u001b[1;32m    672\u001b[0m \u001b[39m# So just reraise it.\u001b[39;00m\n",
      "\u001b[0;31mOperationalError\u001b[0m: (2003, \"Can't connect to MySQL server on '23.102.103.53' ([Errno 61] Connection refused)\")",
      "\nDuring handling of the above exception, another exception occurred:\n",
      "\u001b[0;31mOperationalError\u001b[0m                          Traceback (most recent call last)",
      "Cell \u001b[0;32mIn[8], line 1\u001b[0m\n\u001b[0;32m----> 1\u001b[0m mysql_db\u001b[39m.\u001b[39;49mconnect()\n\u001b[1;32m      2\u001b[0m \u001b[39mclass\u001b[39;00m \u001b[39mclientes\u001b[39;00m(Model):\n\u001b[1;32m      3\u001b[0m    \u001b[39mid\u001b[39m \u001b[39m=\u001b[39m AutoField()\n",
      "File \u001b[0;32m/opt/homebrew/lib/python3.11/site-packages/peewee.py:3186\u001b[0m, in \u001b[0;36mDatabase.connect\u001b[0;34m(self, reuse_if_open)\u001b[0m\n\u001b[1;32m   3183\u001b[0m     \u001b[39mraise\u001b[39;00m OperationalError(\u001b[39m'\u001b[39m\u001b[39mConnection already opened.\u001b[39m\u001b[39m'\u001b[39m)\n\u001b[1;32m   3185\u001b[0m \u001b[39mself\u001b[39m\u001b[39m.\u001b[39m_state\u001b[39m.\u001b[39mreset()\n\u001b[0;32m-> 3186\u001b[0m \u001b[39mwith\u001b[39;49;00m __exception_wrapper__:\n\u001b[1;32m   3187\u001b[0m     \u001b[39mself\u001b[39;49m\u001b[39m.\u001b[39;49m_state\u001b[39m.\u001b[39;49mset_connection(\u001b[39mself\u001b[39;49m\u001b[39m.\u001b[39;49m_connect())\n\u001b[1;32m   3188\u001b[0m     \u001b[39mif\u001b[39;49;00m \u001b[39mself\u001b[39;49m\u001b[39m.\u001b[39;49mserver_version \u001b[39mis\u001b[39;49;00m \u001b[39mNone\u001b[39;49;00m:\n",
      "File \u001b[0;32m/opt/homebrew/lib/python3.11/site-packages/peewee.py:3014\u001b[0m, in \u001b[0;36mExceptionWrapper.__exit__\u001b[0;34m(self, exc_type, exc_value, traceback)\u001b[0m\n\u001b[1;32m   3012\u001b[0m new_type \u001b[39m=\u001b[39m \u001b[39mself\u001b[39m\u001b[39m.\u001b[39mexceptions[exc_type\u001b[39m.\u001b[39m\u001b[39m__name__\u001b[39m]\n\u001b[1;32m   3013\u001b[0m exc_args \u001b[39m=\u001b[39m exc_value\u001b[39m.\u001b[39margs\n\u001b[0;32m-> 3014\u001b[0m reraise(new_type, new_type(exc_value, \u001b[39m*\u001b[39;49mexc_args), traceback)\n",
      "File \u001b[0;32m/opt/homebrew/lib/python3.11/site-packages/peewee.py:192\u001b[0m, in \u001b[0;36mreraise\u001b[0;34m(tp, value, tb)\u001b[0m\n\u001b[1;32m    190\u001b[0m \u001b[39mdef\u001b[39;00m \u001b[39mreraise\u001b[39m(tp, value, tb\u001b[39m=\u001b[39m\u001b[39mNone\u001b[39;00m):\n\u001b[1;32m    191\u001b[0m     \u001b[39mif\u001b[39;00m value\u001b[39m.\u001b[39m__traceback__ \u001b[39mis\u001b[39;00m \u001b[39mnot\u001b[39;00m tb:\n\u001b[0;32m--> 192\u001b[0m         \u001b[39mraise\u001b[39;00m value\u001b[39m.\u001b[39mwith_traceback(tb)\n\u001b[1;32m    193\u001b[0m     \u001b[39mraise\u001b[39;00m value\n",
      "File \u001b[0;32m/opt/homebrew/lib/python3.11/site-packages/peewee.py:3187\u001b[0m, in \u001b[0;36mDatabase.connect\u001b[0;34m(self, reuse_if_open)\u001b[0m\n\u001b[1;32m   3185\u001b[0m \u001b[39mself\u001b[39m\u001b[39m.\u001b[39m_state\u001b[39m.\u001b[39mreset()\n\u001b[1;32m   3186\u001b[0m \u001b[39mwith\u001b[39;00m __exception_wrapper__:\n\u001b[0;32m-> 3187\u001b[0m     \u001b[39mself\u001b[39m\u001b[39m.\u001b[39m_state\u001b[39m.\u001b[39mset_connection(\u001b[39mself\u001b[39;49m\u001b[39m.\u001b[39;49m_connect())\n\u001b[1;32m   3188\u001b[0m     \u001b[39mif\u001b[39;00m \u001b[39mself\u001b[39m\u001b[39m.\u001b[39mserver_version \u001b[39mis\u001b[39;00m \u001b[39mNone\u001b[39;00m:\n\u001b[1;32m   3189\u001b[0m         \u001b[39mself\u001b[39m\u001b[39m.\u001b[39m_set_server_version(\u001b[39mself\u001b[39m\u001b[39m.\u001b[39m_state\u001b[39m.\u001b[39mconn)\n",
      "File \u001b[0;32m/opt/homebrew/lib/python3.11/site-packages/peewee.py:4144\u001b[0m, in \u001b[0;36mMySQLDatabase._connect\u001b[0;34m(self)\u001b[0m\n\u001b[1;32m   4142\u001b[0m \u001b[39mif\u001b[39;00m mysql \u001b[39mis\u001b[39;00m \u001b[39mNone\u001b[39;00m:\n\u001b[1;32m   4143\u001b[0m     \u001b[39mraise\u001b[39;00m ImproperlyConfigured(\u001b[39m'\u001b[39m\u001b[39mMySQL driver not installed!\u001b[39m\u001b[39m'\u001b[39m)\n\u001b[0;32m-> 4144\u001b[0m conn \u001b[39m=\u001b[39m mysql\u001b[39m.\u001b[39;49mconnect(db\u001b[39m=\u001b[39;49m\u001b[39mself\u001b[39;49m\u001b[39m.\u001b[39;49mdatabase, autocommit\u001b[39m=\u001b[39;49m\u001b[39mTrue\u001b[39;49;00m,\n\u001b[1;32m   4145\u001b[0m                      \u001b[39m*\u001b[39;49m\u001b[39m*\u001b[39;49m\u001b[39mself\u001b[39;49m\u001b[39m.\u001b[39;49mconnect_params)\n\u001b[1;32m   4146\u001b[0m \u001b[39mreturn\u001b[39;00m conn\n",
      "File \u001b[0;32m/opt/homebrew/lib/python3.11/site-packages/pymysql/connections.py:352\u001b[0m, in \u001b[0;36mConnection.__init__\u001b[0;34m(self, user, password, host, database, unix_socket, port, charset, sql_mode, read_default_file, conv, use_unicode, client_flag, cursorclass, init_command, connect_timeout, read_default_group, autocommit, local_infile, max_allowed_packet, defer_connect, auth_plugin_map, read_timeout, write_timeout, bind_address, binary_prefix, program_name, server_public_key, ssl, ssl_ca, ssl_cert, ssl_disabled, ssl_key, ssl_verify_cert, ssl_verify_identity, compress, named_pipe, passwd, db)\u001b[0m\n\u001b[1;32m    350\u001b[0m     \u001b[39mself\u001b[39m\u001b[39m.\u001b[39m_sock \u001b[39m=\u001b[39m \u001b[39mNone\u001b[39;00m\n\u001b[1;32m    351\u001b[0m \u001b[39melse\u001b[39;00m:\n\u001b[0;32m--> 352\u001b[0m     \u001b[39mself\u001b[39;49m\u001b[39m.\u001b[39;49mconnect()\n",
      "File \u001b[0;32m/opt/homebrew/lib/python3.11/site-packages/pymysql/connections.py:668\u001b[0m, in \u001b[0;36mConnection.connect\u001b[0;34m(self, sock)\u001b[0m\n\u001b[1;32m    666\u001b[0m     \u001b[39mif\u001b[39;00m DEBUG:\n\u001b[1;32m    667\u001b[0m         \u001b[39mprint\u001b[39m(exc\u001b[39m.\u001b[39mtraceback)\n\u001b[0;32m--> 668\u001b[0m     \u001b[39mraise\u001b[39;00m exc\n\u001b[1;32m    670\u001b[0m \u001b[39m# If e is neither DatabaseError or IOError, It's a bug.\u001b[39;00m\n\u001b[1;32m    671\u001b[0m \u001b[39m# But raising AssertionError hides original error.\u001b[39;00m\n\u001b[1;32m    672\u001b[0m \u001b[39m# So just reraise it.\u001b[39;00m\n\u001b[1;32m    673\u001b[0m \u001b[39mraise\u001b[39;00m\n",
      "\u001b[0;31mOperationalError\u001b[0m: (2003, \"Can't connect to MySQL server on '23.102.103.53' ([Errno 61] Connection refused)\")"
     ]
    }
   ],
   "source": [
    "mysql_db.connect()\n",
    "class clientes(Model):\n",
    "   id = AutoField()\n",
    "   nombre = CharField()\n",
    "   apellido = CharField()\n",
    "   telefono = CharField()\n",
    "   email = CharField(unique=True)\n",
    "\n",
    "   class Meta:\n",
    "       database = db\n",
    "mysql_db.create_tables([clientes])"
   ]
  },
  {
   "cell_type": "code",
   "execution_count": 1,
   "metadata": {},
   "outputs": [
    {
     "name": "stdout",
     "output_type": "stream",
     "text": [
      "error  2106\n",
      "error  2107\n"
     ]
    }
   ],
   "source": [
    "from peewee import *\n",
    "# Connect to a MySQL database on network.\n",
    "#Base de datos\n",
    "Server = '23.102.103.53'\n",
    "Colección = 'BrayanMontenegro'\n",
    "Usuario = 'bmontenegroprueba'\n",
    "Contraseña = 'bmontenegroprueba'\n",
    "port_ok = True\n",
    "port_cont = 2105\n",
    "while port_ok:\n",
    "    try:\n",
    "        mysql_db = MySQLDatabase('mysql', user=Usuario, password=Contraseña,\n",
    "                                host=Server, port=port_cont)\n",
    "        mysql_db.connect()\n",
    "        print(port_cont)\n",
    "        port_ok = False  \n",
    "    except:\n",
    "        port_cont = port_cont +1\n",
    "        port_ok = True    \n",
    "        print(\"error \",port_cont)"
   ]
  },
  {
   "cell_type": "code",
   "execution_count": 10,
   "metadata": {},
   "outputs": [
    {
     "ename": "ImportError",
     "evalue": "dlopen(/opt/homebrew/lib/python3.11/site-packages/pyodbc.cpython-311-darwin.so, 0x0002): symbol not found in flat namespace '_SQLAllocHandle'",
     "output_type": "error",
     "traceback": [
      "\u001b[0;31m---------------------------------------------------------------------------\u001b[0m",
      "\u001b[0;31mImportError\u001b[0m                               Traceback (most recent call last)",
      "Cell \u001b[0;32mIn[10], line 1\u001b[0m\n\u001b[0;32m----> 1\u001b[0m \u001b[39mimport\u001b[39;00m \u001b[39mpyodbc\u001b[39;00m\n\u001b[1;32m      2\u001b[0m \u001b[39mimport\u001b[39;00m \u001b[39mpandas\u001b[39;00m \u001b[39mas\u001b[39;00m \u001b[39mpd\u001b[39;00m\n\u001b[1;32m      3\u001b[0m Server \u001b[39m=\u001b[39m \u001b[39m'\u001b[39m\u001b[39m23.102.103.53\u001b[39m\u001b[39m'\u001b[39m\n",
      "\u001b[0;31mImportError\u001b[0m: dlopen(/opt/homebrew/lib/python3.11/site-packages/pyodbc.cpython-311-darwin.so, 0x0002): symbol not found in flat namespace '_SQLAllocHandle'"
     ]
    }
   ],
   "source": [
    "import pyodbc\n",
    "import pandas as pd\n",
    "Server = '23.102.103.53'\n",
    "Colección = 'BrayanMontenegro'\n",
    "Usuario = 'bmontenegroprueba'\n",
    "Contraseña = 'bmontenegroprueba'\n",
    "conexion = pyodbc.connect('DRIVER={SQL Server};SERVER='+Server+';DATABASE='+Colección+';UID='+Usuario+';PWD='+Contraseña)\n",
    "conexion\n",
    "\n"
   ]
  },
  {
   "cell_type": "code",
   "execution_count": 12,
   "metadata": {},
   "outputs": [
    {
     "ename": "ImportError",
     "evalue": "dlopen(/opt/homebrew/lib/python3.11/site-packages/pyodbc.cpython-311-darwin.so, 0x0002): symbol not found in flat namespace '_SQLAllocHandle'",
     "output_type": "error",
     "traceback": [
      "\u001b[0;31m---------------------------------------------------------------------------\u001b[0m",
      "\u001b[0;31mImportError\u001b[0m                               Traceback (most recent call last)",
      "Cell \u001b[0;32mIn[12], line 1\u001b[0m\n\u001b[0;32m----> 1\u001b[0m \u001b[39mimport\u001b[39;00m \u001b[39mpyodbc\u001b[39;00m\n\u001b[1;32m      2\u001b[0m server \u001b[39m=\u001b[39m \u001b[39m'\u001b[39m\u001b[39m<server>.database.windows.net\u001b[39m\u001b[39m'\u001b[39m\n\u001b[1;32m      3\u001b[0m database \u001b[39m=\u001b[39m \u001b[39m'\u001b[39m\u001b[39m<database>\u001b[39m\u001b[39m'\u001b[39m\n",
      "\u001b[0;31mImportError\u001b[0m: dlopen(/opt/homebrew/lib/python3.11/site-packages/pyodbc.cpython-311-darwin.so, 0x0002): symbol not found in flat namespace '_SQLAllocHandle'"
     ]
    }
   ],
   "source": [
    "import pyodbc\n",
    "server = '<server>.database.windows.net'\n",
    "database = '<database>'\n",
    "username = '<username>'\n",
    "password = '{<password>}'   \n",
    "driver= '{ODBC Driver 17 for SQL Server}'\n",
    "\n",
    "with pyodbc.connect('DRIVER='+driver+';SERVER=tcp:'+server+';PORT=1433;DATABASE='+database+';UID='+username+';PWD='+ password) as conn:\n",
    "    with conn.cursor() as cursor:\n",
    "        cursor.execute(\"SELECT TOP 3 name, collation_name FROM sys.databases\")\n",
    "        row = cursor.fetchone()\n",
    "        while row:\n",
    "            print (str(row[0]) + \" \" + str(row[1]))\n",
    "            row = cursor.fetchone()"
   ]
  },
  {
   "cell_type": "code",
   "execution_count": null,
   "metadata": {},
   "outputs": [],
   "source": []
  },
  {
   "cell_type": "code",
   "execution_count": 7,
   "metadata": {},
   "outputs": [
    {
     "ename": "ModuleNotFoundError",
     "evalue": "No module named '_mssql'",
     "output_type": "error",
     "traceback": [
      "\u001b[0;31m---------------------------------------------------------------------------\u001b[0m",
      "\u001b[0;31mModuleNotFoundError\u001b[0m                       Traceback (most recent call last)",
      "Cell \u001b[0;32mIn[7], line 1\u001b[0m\n\u001b[0;32m----> 1\u001b[0m \u001b[39mimport\u001b[39;00m \u001b[39m_mssql\u001b[39;00m\n\u001b[1;32m      3\u001b[0m server \u001b[39m=\u001b[39m \u001b[39m'\u001b[39m\u001b[39mSERVER_NAME\u001b[39m\u001b[39m'\u001b[39m\n\u001b[1;32m      4\u001b[0m user \u001b[39m=\u001b[39m \u001b[39m'\u001b[39m\u001b[39mUSER_NAME\u001b[39m\u001b[39m'\u001b[39m\n",
      "\u001b[0;31mModuleNotFoundError\u001b[0m: No module named '_mssql'"
     ]
    }
   ],
   "source": [
    "import _mssql\n",
    "\n",
    "server = 'SERVER_NAME'\n",
    "user = 'USER_NAME'\n",
    "password = '<PASSWORD>'\n",
    "database = 'MY_DATABASE'\n",
    "conn = _mssql.connect(server, user, password, database)"
   ]
  },
  {
   "cell_type": "code",
   "execution_count": 9,
   "metadata": {},
   "outputs": [
    {
     "data": {
      "text/plain": [
       "False"
      ]
     },
     "execution_count": 9,
     "metadata": {},
     "output_type": "execute_result"
    }
   ],
   "source": [
    "mysql_db.close()"
   ]
  },
  {
   "cell_type": "code",
   "execution_count": null,
   "metadata": {},
   "outputs": [],
   "source": []
  }
 ],
 "metadata": {
  "kernelspec": {
   "display_name": "Python 3",
   "language": "python",
   "name": "python3"
  },
  "language_info": {
   "codemirror_mode": {
    "name": "ipython",
    "version": 3
   },
   "file_extension": ".py",
   "mimetype": "text/x-python",
   "name": "python",
   "nbconvert_exporter": "python",
   "pygments_lexer": "ipython3",
   "version": "3.11.3"
  },
  "orig_nbformat": 4
 },
 "nbformat": 4,
 "nbformat_minor": 2
}
