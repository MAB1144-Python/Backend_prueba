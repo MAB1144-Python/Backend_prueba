{
 "cells": [
  {
   "cell_type": "code",
   "execution_count": 2,
   "metadata": {},
   "outputs": [
    {
     "name": "stdout",
     "output_type": "stream",
     "text": [
      "Collecting pymysql\n",
      "  Downloading PyMySQL-1.0.3-py3-none-any.whl (43 kB)\n",
      "\u001b[2K     \u001b[90m━━━━━━━━━━━━━━━━━━━━━━━━━━━━━━━━━━━━━━━━\u001b[0m \u001b[32m43.7/43.7 kB\u001b[0m \u001b[31m1.3 MB/s\u001b[0m eta \u001b[36m0:00:00\u001b[0m\n",
      "\u001b[?25hInstalling collected packages: pymysql\n",
      "Successfully installed pymysql-1.0.3\n"
     ]
    }
   ],
   "source": [
    "!pip install pymysql"
   ]
  },
  {
   "cell_type": "code",
   "execution_count": 1,
   "metadata": {},
   "outputs": [
    {
     "name": "stdout",
     "output_type": "stream",
     "text": [
      "error  136\n",
      "error  137\n",
      "error  138\n"
     ]
    }
   ],
   "source": [
    "from peewee import *\n",
    "# Connect to a MySQL database on network.\n",
    "#Base de datos\n",
    "Server = '23.102.103.53'\n",
    "Colección = 'BrayanMontenegro'\n",
    "Usuario = 'bmontenegroprueba'\n",
    "Contraseña = 'bmontenegroprueba'\n",
    "port_ok = True\n",
    "port_cont = 135\n",
    "while port_ok:\n",
    "    try:\n",
    "        mysql_db = MySQLDatabase('mysql', user=Usuario, password=Contraseña,\n",
    "                                host=Server, port=port_cont)\n",
    "        mysql_db.connect()\n",
    "        print(port_cont)\n",
    "        port_ok = False  \n",
    "    except:\n",
    "        port_cont = port_cont +1\n",
    "        port_ok = True    \n",
    "        print(\"error \",port_cont)"
   ]
  },
  {
   "cell_type": "code",
   "execution_count": 2,
   "metadata": {},
   "outputs": [
    {
     "data": {
      "text/plain": [
       "False"
      ]
     },
     "execution_count": 2,
     "metadata": {},
     "output_type": "execute_result"
    }
   ],
   "source": [
    "mysql_db.close()"
   ]
  }
 ],
 "metadata": {
  "kernelspec": {
   "display_name": "Python 3",
   "language": "python",
   "name": "python3"
  },
  "language_info": {
   "codemirror_mode": {
    "name": "ipython",
    "version": 3
   },
   "file_extension": ".py",
   "mimetype": "text/x-python",
   "name": "python",
   "nbconvert_exporter": "python",
   "pygments_lexer": "ipython3",
   "version": "3.11.3"
  },
  "orig_nbformat": 4
 },
 "nbformat": 4,
 "nbformat_minor": 2
}
