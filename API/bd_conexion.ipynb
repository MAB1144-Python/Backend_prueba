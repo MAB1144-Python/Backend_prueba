{
 "cells": [
  {
   "cell_type": "code",
   "execution_count": 2,
   "metadata": {},
   "outputs": [
    {
     "name": "stdout",
     "output_type": "stream",
     "text": [
      "Collecting pymysql\n",
      "  Downloading PyMySQL-1.0.3-py3-none-any.whl (43 kB)\n",
      "\u001b[2K     \u001b[90m━━━━━━━━━━━━━━━━━━━━━━━━━━━━━━━━━━━━━━━━\u001b[0m \u001b[32m43.7/43.7 kB\u001b[0m \u001b[31m1.3 MB/s\u001b[0m eta \u001b[36m0:00:00\u001b[0m\n",
      "\u001b[?25hInstalling collected packages: pymysql\n",
      "Successfully installed pymysql-1.0.3\n"
     ]
    }
   ],
   "source": [
    "!pip install pymysql"
   ]
  },
  {
   "cell_type": "code",
   "execution_count": 1,
   "metadata": {},
   "outputs": [
    {
     "name": "stdout",
     "output_type": "stream",
     "text": [
      "error  2106\n",
      "error  2107\n"
     ]
    }
   ],
   "source": [
    "from peewee import *\n",
    "# Connect to a MySQL database on network.\n",
    "#Base de datos\n",
    "Server = '23.102.103.53'\n",
    "Colección = 'BrayanMontenegro'\n",
    "Usuario = 'bmontenegroprueba'\n",
    "Contraseña = 'bmontenegroprueba'\n",
    "port_ok = True\n",
    "port_cont = 2105\n",
    "while port_ok:\n",
    "    try:\n",
    "        mysql_db = MySQLDatabase('mysql', user=Usuario, password=Contraseña,\n",
    "                                host=Server, port=port_cont)\n",
    "        mysql_db.connect()\n",
    "        print(port_cont)\n",
    "        port_ok = False  \n",
    "    except:\n",
    "        port_cont = port_cont +1\n",
    "        port_ok = True    \n",
    "        print(\"error \",port_cont)"
   ]
  },
  {
   "cell_type": "code",
   "execution_count": 8,
   "metadata": {},
   "outputs": [
    {
     "ename": "ImportError",
     "evalue": "dlopen(/opt/homebrew/lib/python3.11/site-packages/pyodbc.cpython-311-darwin.so, 0x0002): symbol not found in flat namespace '_SQLAllocHandle'",
     "output_type": "error",
     "traceback": [
      "\u001b[0;31m---------------------------------------------------------------------------\u001b[0m",
      "\u001b[0;31mImportError\u001b[0m                               Traceback (most recent call last)",
      "Cell \u001b[0;32mIn[8], line 1\u001b[0m\n\u001b[0;32m----> 1\u001b[0m \u001b[39mimport\u001b[39;00m \u001b[39mpyodbc\u001b[39;00m\n\u001b[1;32m      2\u001b[0m \u001b[39mimport\u001b[39;00m \u001b[39mpandas\u001b[39;00m \u001b[39mas\u001b[39;00m \u001b[39mpd\u001b[39;00m\n\u001b[1;32m      3\u001b[0m Server \u001b[39m=\u001b[39m \u001b[39m'\u001b[39m\u001b[39m23.102.103.53\u001b[39m\u001b[39m'\u001b[39m\n",
      "\u001b[0;31mImportError\u001b[0m: dlopen(/opt/homebrew/lib/python3.11/site-packages/pyodbc.cpython-311-darwin.so, 0x0002): symbol not found in flat namespace '_SQLAllocHandle'"
     ]
    }
   ],
   "source": [
    "import pyodbc\n",
    "import pandas as pd\n",
    "Server = '23.102.103.53'\n",
    "Colección = 'BrayanMontenegro'\n",
    "Usuario = 'bmontenegroprueba'\n",
    "Contraseña = 'bmontenegroprueba'\n",
    "conexion = pyodbc.connect('DRIVER={ODBC DRIVER 17 for SQL server};SERVER='+Server+';DATABASE='+Colección+';UID='+Usuario+';PWD='+Contraseña)\n",
    "conexion\n",
    "\n"
   ]
  },
  {
   "cell_type": "code",
   "execution_count": null,
   "metadata": {},
   "outputs": [],
   "source": []
  },
  {
   "cell_type": "code",
   "execution_count": 7,
   "metadata": {},
   "outputs": [
    {
     "ename": "ModuleNotFoundError",
     "evalue": "No module named '_mssql'",
     "output_type": "error",
     "traceback": [
      "\u001b[0;31m---------------------------------------------------------------------------\u001b[0m",
      "\u001b[0;31mModuleNotFoundError\u001b[0m                       Traceback (most recent call last)",
      "Cell \u001b[0;32mIn[7], line 1\u001b[0m\n\u001b[0;32m----> 1\u001b[0m \u001b[39mimport\u001b[39;00m \u001b[39m_mssql\u001b[39;00m\n\u001b[1;32m      3\u001b[0m server \u001b[39m=\u001b[39m \u001b[39m'\u001b[39m\u001b[39mSERVER_NAME\u001b[39m\u001b[39m'\u001b[39m\n\u001b[1;32m      4\u001b[0m user \u001b[39m=\u001b[39m \u001b[39m'\u001b[39m\u001b[39mUSER_NAME\u001b[39m\u001b[39m'\u001b[39m\n",
      "\u001b[0;31mModuleNotFoundError\u001b[0m: No module named '_mssql'"
     ]
    }
   ],
   "source": [
    "import _mssql\n",
    "\n",
    "server = 'SERVER_NAME'\n",
    "user = 'USER_NAME'\n",
    "password = '<PASSWORD>'\n",
    "database = 'MY_DATABASE'\n",
    "conn = _mssql.connect(server, user, password, database)"
   ]
  },
  {
   "cell_type": "code",
   "execution_count": 2,
   "metadata": {},
   "outputs": [
    {
     "data": {
      "text/plain": [
       "False"
      ]
     },
     "execution_count": 2,
     "metadata": {},
     "output_type": "execute_result"
    }
   ],
   "source": [
    "mysql_db.close()"
   ]
  }
 ],
 "metadata": {
  "kernelspec": {
   "display_name": "Python 3",
   "language": "python",
   "name": "python3"
  },
  "language_info": {
   "codemirror_mode": {
    "name": "ipython",
    "version": 3
   },
   "file_extension": ".py",
   "mimetype": "text/x-python",
   "name": "python",
   "nbconvert_exporter": "python",
   "pygments_lexer": "ipython3",
   "version": "3.11.3"
  },
  "orig_nbformat": 4
 },
 "nbformat": 4,
 "nbformat_minor": 2
}
